{
 "cells": [
  {
   "cell_type": "markdown",
   "id": "7f0c0a2b",
   "metadata": {
    "papermill": {
     "duration": 0.009316,
     "end_time": "2024-04-26T01:46:20.879018",
     "exception": false,
     "start_time": "2024-04-26T01:46:20.869702",
     "status": "completed"
    },
    "tags": []
   },
   "source": [
    "# NLP Disaster Tweets Project"
   ]
  },
  {
   "cell_type": "markdown",
   "id": "1151b98b",
   "metadata": {
    "papermill": {
     "duration": 0.008977,
     "end_time": "2024-04-26T01:46:20.897482",
     "exception": false,
     "start_time": "2024-04-26T01:46:20.888505",
     "status": "completed"
    },
    "tags": []
   },
   "source": [
    "Our goal is to solve a Natural Language Processing (NLP) problem of predicting whether tweets describe real disasters. \n",
    "\n",
    "The challenge of this problem is that people may use words in their tweets that describe a disaster, but are not describing a real disaster. To solve this problem, we use the DistilBert model, which is a pre-trained deep learning model that understands the contextual meaning of text. \n",
    "\n",
    "We first preprocessed the text, including conversion to lowercase, word splitting, deactivation, and stemming extraction, and then trained and predicted with the DistilBert model. Finally, we use the confusion matrix to evaluate the performance of the model and submit the predictions to the competition platform. We hope this brief will help you understand our problem and solution.\n",
    "\n",
    "https://github.com/mizumoto-cn/CSCA5642W4/tree/main"
   ]
  },
  {
   "cell_type": "code",
   "execution_count": 1,
   "id": "a37e9c69",
   "metadata": {
    "_cell_guid": "b1076dfc-b9ad-4769-8c92-a6c4dae69d19",
    "_uuid": "8f2839f25d086af736a60e9eeb907d3b93b6e0e5",
    "execution": {
     "iopub.execute_input": "2024-04-26T01:46:20.917125Z",
     "iopub.status.busy": "2024-04-26T01:46:20.916774Z",
     "iopub.status.idle": "2024-04-26T01:47:09.301861Z",
     "shell.execute_reply": "2024-04-26T01:47:09.301045Z"
    },
    "papermill": {
     "duration": 48.397836,
     "end_time": "2024-04-26T01:47:09.304416",
     "exception": false,
     "start_time": "2024-04-26T01:46:20.906580",
     "status": "completed"
    },
    "tags": []
   },
   "outputs": [
    {
     "name": "stdout",
     "output_type": "stream",
     "text": [
      "Collecting keras-core\r\n",
      "  Downloading keras_core-0.1.7-py3-none-any.whl.metadata (4.3 kB)\r\n",
      "Requirement already satisfied: absl-py in /opt/conda/lib/python3.10/site-packages (from keras-core) (1.4.0)\r\n",
      "Requirement already satisfied: numpy in /opt/conda/lib/python3.10/site-packages (from keras-core) (1.26.4)\r\n",
      "Requirement already satisfied: rich in /opt/conda/lib/python3.10/site-packages (from keras-core) (13.7.0)\r\n",
      "Requirement already satisfied: namex in /opt/conda/lib/python3.10/site-packages (from keras-core) (0.0.8)\r\n",
      "Requirement already satisfied: h5py in /opt/conda/lib/python3.10/site-packages (from keras-core) (3.10.0)\r\n",
      "Requirement already satisfied: dm-tree in /opt/conda/lib/python3.10/site-packages (from keras-core) (0.1.8)\r\n",
      "Requirement already satisfied: markdown-it-py>=2.2.0 in /opt/conda/lib/python3.10/site-packages (from rich->keras-core) (3.0.0)\r\n",
      "Requirement already satisfied: pygments<3.0.0,>=2.13.0 in /opt/conda/lib/python3.10/site-packages (from rich->keras-core) (2.17.2)\r\n",
      "Requirement already satisfied: mdurl~=0.1 in /opt/conda/lib/python3.10/site-packages (from markdown-it-py>=2.2.0->rich->keras-core) (0.1.2)\r\n",
      "Downloading keras_core-0.1.7-py3-none-any.whl (950 kB)\r\n",
      "\u001b[2K   \u001b[90m━━━━━━━━━━━━━━━━━━━━━━━━━━━━━━━━━━━━━━━━\u001b[0m \u001b[32m950.8/950.8 kB\u001b[0m \u001b[31m5.1 MB/s\u001b[0m eta \u001b[36m0:00:00\u001b[0m\r\n",
      "\u001b[?25hInstalling collected packages: keras-core\r\n",
      "Successfully installed keras-core-0.1.7\r\n",
      "\u001b[31mERROR: pip's dependency resolver does not currently take into account all the packages that are installed. This behaviour is the source of the following dependency conflicts.\r\n",
      "tensorflow-decision-forests 1.8.1 requires wurlitzer, which is not installed.\u001b[0m\u001b[31m\r\n",
      "\u001b[0m"
     ]
    },
    {
     "name": "stderr",
     "output_type": "stream",
     "text": [
      "2024-04-26 01:46:55.118391: E external/local_xla/xla/stream_executor/cuda/cuda_dnn.cc:9261] Unable to register cuDNN factory: Attempting to register factory for plugin cuDNN when one has already been registered\n",
      "2024-04-26 01:46:55.118533: E external/local_xla/xla/stream_executor/cuda/cuda_fft.cc:607] Unable to register cuFFT factory: Attempting to register factory for plugin cuFFT when one has already been registered\n",
      "2024-04-26 01:46:55.290261: E external/local_xla/xla/stream_executor/cuda/cuda_blas.cc:1515] Unable to register cuBLAS factory: Attempting to register factory for plugin cuBLAS when one has already been registered\n"
     ]
    },
    {
     "name": "stdout",
     "output_type": "stream",
     "text": [
      "Using TensorFlow backend\n"
     ]
    }
   ],
   "source": [
    "!pip install keras-core --upgrade\n",
    "!pip install -q keras-nlp --upgrade\n",
    "import os\n",
    "import numpy as np\n",
    "import pandas as pd\n",
    "import tensorflow as tf\n",
    "import keras_core as keras\n",
    "import keras_nlp\n",
    "from sklearn.metrics import ConfusionMatrixDisplay, confusion_matrix\n",
    "import seaborn as sns\n",
    "import matplotlib.pyplot as plt\n",
    "from nltk.corpus import stopwords\n",
    "from nltk.stem import PorterStemmer"
   ]
  },
  {
   "cell_type": "markdown",
   "id": "2a78ee28",
   "metadata": {
    "papermill": {
     "duration": 0.009836,
     "end_time": "2024-04-26T01:47:09.324606",
     "exception": false,
     "start_time": "2024-04-26T01:47:09.314770",
     "status": "completed"
    },
    "tags": []
   },
   "source": [
    "The selected backend is TensorFlow, while pyTorch can also be selected."
   ]
  },
  {
   "cell_type": "code",
   "execution_count": 2,
   "id": "12e25ffa",
   "metadata": {
    "execution": {
     "iopub.execute_input": "2024-04-26T01:47:09.346505Z",
     "iopub.status.busy": "2024-04-26T01:47:09.345915Z",
     "iopub.status.idle": "2024-04-26T01:47:09.351872Z",
     "shell.execute_reply": "2024-04-26T01:47:09.350806Z"
    },
    "papermill": {
     "duration": 0.019484,
     "end_time": "2024-04-26T01:47:09.354186",
     "exception": false,
     "start_time": "2024-04-26T01:47:09.334702",
     "status": "completed"
    },
    "tags": []
   },
   "outputs": [
    {
     "name": "stdout",
     "output_type": "stream",
     "text": [
      "TensorFlow version: 2.15.0\n",
      "KerasNLP version: 0.9.3\n"
     ]
    }
   ],
   "source": [
    "os.environ['KERAS_BACKEND'] = 'tensorflow'\n",
    "\n",
    "print(\"TensorFlow version:\", tf.__version__)\n",
    "print(\"KerasNLP version:\", keras_nlp.__version__)"
   ]
  },
  {
   "cell_type": "markdown",
   "id": "0ce8b2ea",
   "metadata": {
    "papermill": {
     "duration": 0.010734,
     "end_time": "2024-04-26T01:47:09.375294",
     "exception": false,
     "start_time": "2024-04-26T01:47:09.364560",
     "status": "completed"
    },
    "tags": []
   },
   "source": [
    "## EDA\n",
    "\n",
    "### Data Importing"
   ]
  },
  {
   "cell_type": "code",
   "execution_count": 3,
   "id": "b28097c8",
   "metadata": {
    "execution": {
     "iopub.execute_input": "2024-04-26T01:47:09.397035Z",
     "iopub.status.busy": "2024-04-26T01:47:09.396733Z",
     "iopub.status.idle": "2024-04-26T01:47:09.474272Z",
     "shell.execute_reply": "2024-04-26T01:47:09.473255Z"
    },
    "papermill": {
     "duration": 0.090832,
     "end_time": "2024-04-26T01:47:09.476444",
     "exception": false,
     "start_time": "2024-04-26T01:47:09.385612",
     "status": "completed"
    },
    "tags": []
   },
   "outputs": [
    {
     "name": "stdout",
     "output_type": "stream",
     "text": [
      "Training Set Shape = (7613, 5)\n",
      "Training Set Memory Usage = 0.29 MB\n",
      "Test Set Shape = (3263, 4)\n",
      "Test Set Memory Usage = 0.10 MB\n"
     ]
    }
   ],
   "source": [
    "df_train = pd.read_csv(\"/kaggle/input/nlp-getting-started/train.csv\")\n",
    "df_test = pd.read_csv(\"/kaggle/input/nlp-getting-started/test.csv\")\n",
    "\n",
    "print('Training Set Shape = {}'.format(df_train.shape))\n",
    "print('Training Set Memory Usage = {:.2f} MB'.format(df_train.memory_usage().sum() / 1024**2))\n",
    "print('Test Set Shape = {}'.format(df_test.shape))\n",
    "print('Test Set Memory Usage = {:.2f} MB'.format(df_test.memory_usage().sum() / 1024**2))"
   ]
  },
  {
   "cell_type": "markdown",
   "id": "5072ae3e",
   "metadata": {
    "papermill": {
     "duration": 0.010472,
     "end_time": "2024-04-26T01:47:09.497598",
     "exception": false,
     "start_time": "2024-04-26T01:47:09.487126",
     "status": "completed"
    },
    "tags": []
   },
   "source": [
    "### Data Preprocessing"
   ]
  },
  {
   "cell_type": "markdown",
   "id": "7d112f2d",
   "metadata": {
    "papermill": {
     "duration": 0.010273,
     "end_time": "2024-04-26T01:47:09.518248",
     "exception": false,
     "start_time": "2024-04-26T01:47:09.507975",
     "status": "completed"
    },
    "tags": []
   },
   "source": [
    "Creating instances of stop words and stemming extractors"
   ]
  },
  {
   "cell_type": "code",
   "execution_count": 4,
   "id": "e1f838d0",
   "metadata": {
    "execution": {
     "iopub.execute_input": "2024-04-26T01:47:09.539868Z",
     "iopub.status.busy": "2024-04-26T01:47:09.539591Z",
     "iopub.status.idle": "2024-04-26T01:47:09.549153Z",
     "shell.execute_reply": "2024-04-26T01:47:09.548240Z"
    },
    "papermill": {
     "duration": 0.022532,
     "end_time": "2024-04-26T01:47:09.550935",
     "exception": false,
     "start_time": "2024-04-26T01:47:09.528403",
     "status": "completed"
    },
    "tags": []
   },
   "outputs": [],
   "source": [
    "stop_words = set(stopwords.words('english'))\n",
    "ps = PorterStemmer()"
   ]
  },
  {
   "cell_type": "markdown",
   "id": "0140c9a1",
   "metadata": {
    "papermill": {
     "duration": 0.00985,
     "end_time": "2024-04-26T01:47:09.570664",
     "exception": false,
     "start_time": "2024-04-26T01:47:09.560814",
     "status": "completed"
    },
    "tags": []
   },
   "source": [
    "Pre-processing procedures:\n",
    "\n",
    "- Changing letters to lower case\n",
    "- remove stop words"
   ]
  },
  {
   "cell_type": "code",
   "execution_count": 5,
   "id": "9636571e",
   "metadata": {
    "execution": {
     "iopub.execute_input": "2024-04-26T01:47:09.592903Z",
     "iopub.status.busy": "2024-04-26T01:47:09.592389Z",
     "iopub.status.idle": "2024-04-26T01:47:09.597397Z",
     "shell.execute_reply": "2024-04-26T01:47:09.596516Z"
    },
    "papermill": {
     "duration": 0.018344,
     "end_time": "2024-04-26T01:47:09.599340",
     "exception": false,
     "start_time": "2024-04-26T01:47:09.580996",
     "status": "completed"
    },
    "tags": []
   },
   "outputs": [],
   "source": [
    "def preprocess_text(text):\n",
    "    text = text.lower()\n",
    "    words = text.split()\n",
    "    words = [ps.stem(word) for word in words if word not in stop_words]\n",
    "    text = ' '.join(words)\n",
    "    return text"
   ]
  },
  {
   "cell_type": "code",
   "execution_count": 6,
   "id": "dc18b26d",
   "metadata": {
    "execution": {
     "iopub.execute_input": "2024-04-26T01:47:09.621860Z",
     "iopub.status.busy": "2024-04-26T01:47:09.621382Z",
     "iopub.status.idle": "2024-04-26T01:47:13.461248Z",
     "shell.execute_reply": "2024-04-26T01:47:13.459841Z"
    },
    "papermill": {
     "duration": 3.853854,
     "end_time": "2024-04-26T01:47:13.463853",
     "exception": false,
     "start_time": "2024-04-26T01:47:09.609999",
     "status": "completed"
    },
    "tags": []
   },
   "outputs": [
    {
     "name": "stdout",
     "output_type": "stream",
     "text": [
      "Train Length Stat\n",
      "count    7613.000000\n",
      "mean       77.905425\n",
      "std        28.700947\n",
      "min         4.000000\n",
      "25%        58.000000\n",
      "50%        80.000000\n",
      "75%       101.000000\n",
      "max       143.000000\n",
      "Name: length, dtype: float64\n",
      "Test Length Stat\n",
      "count    3263.000000\n",
      "mean       79.222188\n",
      "std        28.988327\n",
      "min         4.000000\n",
      "25%        59.000000\n",
      "50%        82.000000\n",
      "75%       102.000000\n",
      "max       143.000000\n",
      "Name: length, dtype: float64\n"
     ]
    }
   ],
   "source": [
    "df_train[\"text\"] = df_train[\"text\"].apply(preprocess_text)\n",
    "df_test[\"text\"] = df_test[\"text\"].apply(preprocess_text)\n",
    "\n",
    "df_train[\"length\"] = df_train[\"text\"].apply(lambda x : len(x))\n",
    "df_test[\"length\"] = df_test[\"text\"].apply(lambda x : len(x))\n",
    "\n",
    "print(\"Train Length Stat\")\n",
    "print(df_train[\"length\"].describe())\n",
    "print(\"Test Length Stat\")\n",
    "print(df_test[\"length\"].describe())"
   ]
  },
  {
   "cell_type": "markdown",
   "id": "8e620bc6",
   "metadata": {
    "papermill": {
     "duration": 0.010406,
     "end_time": "2024-04-26T01:47:13.485598",
     "exception": false,
     "start_time": "2024-04-26T01:47:13.475192",
     "status": "completed"
    },
    "tags": []
   },
   "source": [
    "### Data Visualization"
   ]
  },
  {
   "cell_type": "markdown",
   "id": "6f5e1a16",
   "metadata": {
    "papermill": {
     "duration": 0.009891,
     "end_time": "2024-04-26T01:47:13.505722",
     "exception": false,
     "start_time": "2024-04-26T01:47:13.495831",
     "status": "completed"
    },
    "tags": []
   },
   "source": [
    "Histogram of Tweet Length"
   ]
  },
  {
   "cell_type": "code",
   "execution_count": 7,
   "id": "a1cf8a05",
   "metadata": {
    "execution": {
     "iopub.execute_input": "2024-04-26T01:47:13.527493Z",
     "iopub.status.busy": "2024-04-26T01:47:13.527168Z",
     "iopub.status.idle": "2024-04-26T01:47:13.907603Z",
     "shell.execute_reply": "2024-04-26T01:47:13.906664Z"
    },
    "papermill": {
     "duration": 0.394195,
     "end_time": "2024-04-26T01:47:13.910055",
     "exception": false,
     "start_time": "2024-04-26T01:47:13.515860",
     "status": "completed"
    },
    "tags": []
   },
   "outputs": [
    {
     "data": {
      "image/png": "[encoded data removed]",
      "text/plain": [
       "<Figure size 1000x600 with 1 Axes>"
      ]
     },
     "metadata": {},
     "output_type": "display_data"
    }
   ],
   "source": [
    "import matplotlib.pyplot as plt\n",
    "\n",
    "# Histogram of Tweet Length\n",
    "plt.figure(figsize=(10, 6))\n",
    "plt.hist(df_train['length'], bins=30, alpha=0.7, color='dodgerblue')\n",
    "plt.title('Histogram of Tweet Length')\n",
    "plt.xlabel('Length')\n",
    "plt.ylabel('Frequency')\n",
    "plt.show()"
   ]
  },
  {
   "cell_type": "markdown",
   "id": "bc5d159c",
   "metadata": {
    "papermill": {
     "duration": 0.010278,
     "end_time": "2024-04-26T01:47:13.932060",
     "exception": false,
     "start_time": "2024-04-26T01:47:13.921782",
     "status": "completed"
    },
    "tags": []
   },
   "source": [
    "Pie Chart of Disaster vs Non-disaster Tweets"
   ]
  },
  {
   "cell_type": "code",
   "execution_count": 8,
   "id": "961698a9",
   "metadata": {
    "execution": {
     "iopub.execute_input": "2024-04-26T01:47:13.960316Z",
     "iopub.status.busy": "2024-04-26T01:47:13.959509Z",
     "iopub.status.idle": "2024-04-26T01:47:14.154987Z",
     "shell.execute_reply": "2024-04-26T01:47:14.153759Z"
    },
    "papermill": {
     "duration": 0.214408,
     "end_time": "2024-04-26T01:47:14.158617",
     "exception": false,
     "start_time": "2024-04-26T01:47:13.944209",
     "status": "completed"
    },
    "tags": []
   },
   "outputs": [
    {
     "data": {
      "image/png": "[encoded data removed]",
      "text/plain": [
       "<Figure size 600x600 with 1 Axes>"
      ]
     },
     "metadata": {},
     "output_type": "display_data"
    }
   ],
   "source": [
    "plt.figure(figsize=(6, 6))\n",
    "df_train['target'].value_counts().plot(kind='pie', autopct='%1.1f%%', colors=['skyblue', 'gold'])\n",
    "plt.title('Pie Chart of Disaster vs Non-disaster Tweets')\n",
    "plt.ylabel('')\n",
    "plt.show()"
   ]
  },
  {
   "cell_type": "markdown",
   "id": "3882d63b",
   "metadata": {
    "papermill": {
     "duration": 0.027275,
     "end_time": "2024-04-26T01:47:14.212678",
     "exception": false,
     "start_time": "2024-04-26T01:47:14.185403",
     "status": "completed"
    },
    "tags": []
   },
   "source": [
    "Average Tweet Length of Disaster vs Non-disaster"
   ]
  },
  {
   "cell_type": "code",
   "execution_count": 9,
   "id": "db200330",
   "metadata": {
    "execution": {
     "iopub.execute_input": "2024-04-26T01:47:14.240611Z",
     "iopub.status.busy": "2024-04-26T01:47:14.240306Z",
     "iopub.status.idle": "2024-04-26T01:47:14.494117Z",
     "shell.execute_reply": "2024-04-26T01:47:14.493243Z"
    },
    "papermill": {
     "duration": 0.268601,
     "end_time": "2024-04-26T01:47:14.496374",
     "exception": false,
     "start_time": "2024-04-26T01:47:14.227773",
     "status": "completed"
    },
    "tags": []
   },
   "outputs": [
    {
     "data": {
      "image/png": "[encoded data removed]",
      "text/plain": [
       "<Figure size 600x600 with 1 Axes>"
      ]
     },
     "metadata": {},
     "output_type": "display_data"
    }
   ],
   "source": [
    "avg_len_disaster = df_train[df_train['target'] == 1]['length'].mean()\n",
    "avg_len_non_disaster = df_train[df_train['target'] == 0]['length'].mean()\n",
    "\n",
    "plt.figure(figsize=(6, 6))\n",
    "plt.bar(['Disaster', 'Non-disaster'], [avg_len_disaster, avg_len_non_disaster], color='seagreen')\n",
    "plt.title('Average Tweet Length of Disaster vs Non-disaster')\n",
    "plt.xlabel('Type')\n",
    "plt.ylabel('Average Length')\n",
    "plt.show()"
   ]
  },
  {
   "cell_type": "markdown",
   "id": "74f671fa",
   "metadata": {
    "papermill": {
     "duration": 0.011899,
     "end_time": "2024-04-26T01:47:14.520234",
     "exception": false,
     "start_time": "2024-04-26T01:47:14.508335",
     "status": "completed"
    },
    "tags": []
   },
   "source": [
    "## Model Params\n",
    "\n",
    "Will use the DistilBert model."
   ]
  },
  {
   "cell_type": "code",
   "execution_count": 10,
   "id": "d5ea047b",
   "metadata": {
    "execution": {
     "iopub.execute_input": "2024-04-26T01:47:14.546051Z",
     "iopub.status.busy": "2024-04-26T01:47:14.545754Z",
     "iopub.status.idle": "2024-04-26T01:47:14.551201Z",
     "shell.execute_reply": "2024-04-26T01:47:14.550298Z"
    },
    "papermill": {
     "duration": 0.021418,
     "end_time": "2024-04-26T01:47:14.553306",
     "exception": false,
     "start_time": "2024-04-26T01:47:14.531888",
     "status": "completed"
    },
    "tags": []
   },
   "outputs": [],
   "source": [
    "BATCH_SIZE = 64\n",
    "NUM_TRAINING_EXAMPLES = df_train.shape[0]\n",
    "TRAIN_SPLIT = 0.8\n",
    "VAL_SPLIT = 0.2\n",
    "STEPS_PER_EPOCH = int(NUM_TRAINING_EXAMPLES)*TRAIN_SPLIT // BATCH_SIZE\n",
    "EPOCHS = 3\n",
    "AUTO = tf.data.experimental.AUTOTUNE"
   ]
  },
  {
   "cell_type": "markdown",
   "id": "e0c02181",
   "metadata": {
    "papermill": {
     "duration": 0.011203,
     "end_time": "2024-04-26T01:47:14.576520",
     "exception": false,
     "start_time": "2024-04-26T01:47:14.565317",
     "status": "completed"
    },
    "tags": []
   },
   "source": [
    "## Model Training\n",
    "\n"
   ]
  },
  {
   "cell_type": "markdown",
   "id": "78a7c853",
   "metadata": {
    "papermill": {
     "duration": 0.011878,
     "end_time": "2024-04-26T01:47:14.600220",
     "exception": false,
     "start_time": "2024-04-26T01:47:14.588342",
     "status": "completed"
    },
    "tags": []
   },
   "source": [
    "DistilBERT is a lightweight BERT that retains most of the performance of BERT, but with a model half the size of BERT and faster training and prediction. Here are some key features of DistilBERT:\n",
    "\n",
    "Transformer Architecture: DistilBERT is based on the Transformer architecture, a deep learning model architecture that is particularly well suited for processing sequential data, such as text.The key feature of the Transformer architecture is the self-attention mechanism, which allows the model to process each word taking into account all other words in the text.\n",
    "Pre-training: DistilBERT is a pre-trained model, meaning that it has been pre-trained on large-scale textual data to learn a rich linguistic representation. This enables DistilBERT to understand the contextual meaning of the text and thus efficiently handle various NLP tasks.\n",
    "Distillation: The process of creating DistilBERT involves a technique called \"knowledge distillation\". In knowledge distillation, a large model (in this case BERT) is used as a teacher model to instruct a small model (in this case DistilBERT). The small model is trained to mimic the behavior of the teacher model, which allows the small model to learn the knowledge of the teacher model while maintaining a smaller model size and faster training speed.\n",
    "\n",
    "**MODEL ARCHITECTURE**: The architecture of DistilBERT is very similar to that of BERT in that both include multiple layers of Transformer encoders. Each layer includes a self-attention mechanism and a feed-forward neural network. However, DistilBERT omits some layers in BERT, such as token type embeddings and pooling.\n"
   ]
  },
  {
   "cell_type": "markdown",
   "id": "54370021",
   "metadata": {
    "papermill": {
     "duration": 0.011615,
     "end_time": "2024-04-26T01:47:14.623437",
     "exception": false,
     "start_time": "2024-04-26T01:47:14.611822",
     "status": "completed"
    },
    "tags": []
   },
   "source": [
    "Divide the data into a training set and a validation set."
   ]
  },
  {
   "cell_type": "code",
   "execution_count": 11,
   "id": "09222e86",
   "metadata": {
    "execution": {
     "iopub.execute_input": "2024-04-26T01:47:14.648970Z",
     "iopub.status.busy": "2024-04-26T01:47:14.648697Z",
     "iopub.status.idle": "2024-04-26T01:47:14.658369Z",
     "shell.execute_reply": "2024-04-26T01:47:14.657248Z"
    },
    "papermill": {
     "duration": 0.025112,
     "end_time": "2024-04-26T01:47:14.660542",
     "exception": false,
     "start_time": "2024-04-26T01:47:14.635430",
     "status": "completed"
    },
    "tags": []
   },
   "outputs": [],
   "source": [
    "from sklearn.model_selection import train_test_split\n",
    "\n",
    "X = df_train[\"text\"]\n",
    "y = df_train[\"target\"]\n",
    "\n",
    "X_train, X_val, y_train, y_val = train_test_split(X, y, test_size=VAL_SPLIT, random_state=42)\n",
    "\n",
    "X_test = df_test[\"text\"]"
   ]
  },
  {
   "cell_type": "markdown",
   "id": "746d0e0c",
   "metadata": {
    "papermill": {
     "duration": 0.012031,
     "end_time": "2024-04-26T01:47:14.684902",
     "exception": false,
     "start_time": "2024-04-26T01:47:14.672871",
     "status": "completed"
    },
    "tags": []
   },
   "source": [
    "We use Keras Core, the multi-backend version of Keras for model building."
   ]
  },
  {
   "cell_type": "markdown",
   "id": "7a00f21f",
   "metadata": {
    "papermill": {
     "duration": 0.011704,
     "end_time": "2024-04-26T01:47:14.708365",
     "exception": false,
     "start_time": "2024-04-26T01:47:14.696661",
     "status": "completed"
    },
    "tags": []
   },
   "source": [
    "Load a DistilBERT model, make the sequences shorter through preprocessor, and finally get a pretrained classifier for final compile and fit process."
   ]
  },
  {
   "cell_type": "code",
   "execution_count": 12,
   "id": "61bb8c37",
   "metadata": {
    "execution": {
     "iopub.execute_input": "2024-04-26T01:47:14.735143Z",
     "iopub.status.busy": "2024-04-26T01:47:14.734582Z",
     "iopub.status.idle": "2024-04-26T01:52:46.102215Z",
     "shell.execute_reply": "2024-04-26T01:52:46.101391Z"
    },
    "papermill": {
     "duration": 331.383356,
     "end_time": "2024-04-26T01:52:46.104274",
     "exception": false,
     "start_time": "2024-04-26T01:47:14.720918",
     "status": "completed"
    },
    "tags": []
   },
   "outputs": [
    {
     "name": "stderr",
     "output_type": "stream",
     "text": [
      "Attaching 'tokenizer.json' from model 'keras/distil_bert/keras/distil_bert_base_en_uncased/2' to your Kaggle notebook...\n",
      "Attaching 'tokenizer.json' from model 'keras/distil_bert/keras/distil_bert_base_en_uncased/2' to your Kaggle notebook...\n",
      "Attaching 'assets/tokenizer/vocabulary.txt' from model 'keras/distil_bert/keras/distil_bert_base_en_uncased/2' to your Kaggle notebook...\n",
      "Attaching 'config.json' from model 'keras/distil_bert/keras/distil_bert_base_en_uncased/2' to your Kaggle notebook...\n",
      "Attaching 'config.json' from model 'keras/distil_bert/keras/distil_bert_base_en_uncased/2' to your Kaggle notebook...\n",
      "Attaching 'model.weights.h5' from model 'keras/distil_bert/keras/distil_bert_base_en_uncased/2' to your Kaggle notebook...\n",
      "/opt/conda/lib/python3.10/site-packages/keras_nlp/src/models/backbone.py:93: UserWarning: `Model.state_updates` will be removed in a future version. This property should not be used in TensorFlow 2.0, as `updates` are applied automatically.\n",
      "  return id(getattr(self, attr)) not in self._functional_layer_ids\n",
      "/opt/conda/lib/python3.10/site-packages/keras_nlp/src/models/backbone.py:93: UserWarning: `layer.updates` will be removed in a future version. This property should not be used in TensorFlow 2.0, as `updates` are applied automatically.\n",
      "  return id(getattr(self, attr)) not in self._functional_layer_ids\n"
     ]
    },
    {
     "data": {
      "text/html": [
       "<pre style=\"white-space:pre;overflow-x:auto;line-height:normal;font-family:Menlo,'DejaVu Sans Mono',consolas,'Courier New',monospace\"><span style=\"font-weight: bold\">Preprocessor: \"preprocessor_4_tweets\"</span>\n",
       "</pre>\n"
      ],
      "text/plain": [
       "\u001b[1mPreprocessor: \"preprocessor_4_tweets\"\u001b[0m\n"
      ]
     },
     "metadata": {},
     "output_type": "display_data"
    },
    {
     "data": {
      "text/html": [
       "<pre style=\"white-space:pre;overflow-x:auto;line-height:normal;font-family:Menlo,'DejaVu Sans Mono',consolas,'Courier New',monospace\">┏━━━━━━━━━━━━━━━━━━━━━━━━━━━━━━━━━━━━━━━━━━━━━━━━━━━━┳━━━━━━━━━━━━━━━━━━━━━━━━━━━━━━━━━━━━━━━━━━━━━━━━━━━━━┓\n",
       "┃<span style=\"font-weight: bold\"> Tokenizer (type)                                   </span>┃<span style=\"font-weight: bold\">                                             Vocab # </span>┃\n",
       "┡━━━━━━━━━━━━━━━━━━━━━━━━━━━━━━━━━━━━━━━━━━━━━━━━━━━━╇━━━━━━━━━━━━━━━━━━━━━━━━━━━━━━━━━━━━━━━━━━━━━━━━━━━━━┩\n",
       "│ distil_bert_tokenizer (<span style=\"color: #0087ff; text-decoration-color: #0087ff\">DistilBertTokenizer</span>)        │                                              <span style=\"color: #00af00; text-decoration-color: #00af00\">30,522</span> │\n",
       "└────────────────────────────────────────────────────┴─────────────────────────────────────────────────────┘\n",
       "</pre>\n"
      ],
      "text/plain": [
       "┏━━━━━━━━━━━━━━━━━━━━━━━━━━━━━━━━━━━━━━━━━━━━━━━━━━━━┳━━━━━━━━━━━━━━━━━━━━━━━━━━━━━━━━━━━━━━━━━━━━━━━━━━━━━┓\n",
       "┃\u001b[1m \u001b[0m\u001b[1mTokenizer (type)                                  \u001b[0m\u001b[1m \u001b[0m┃\u001b[1m \u001b[0m\u001b[1m                                            Vocab #\u001b[0m\u001b[1m \u001b[0m┃\n",
       "┡━━━━━━━━━━━━━━━━━━━━━━━━━━━━━━━━━━━━━━━━━━━━━━━━━━━━╇━━━━━━━━━━━━━━━━━━━━━━━━━━━━━━━━━━━━━━━━━━━━━━━━━━━━━┩\n",
       "│ distil_bert_tokenizer (\u001b[38;5;33mDistilBertTokenizer\u001b[0m)        │                                              \u001b[38;5;34m30,522\u001b[0m │\n",
       "└────────────────────────────────────────────────────┴─────────────────────────────────────────────────────┘\n"
      ]
     },
     "metadata": {},
     "output_type": "display_data"
    },
    {
     "data": {
      "text/html": [
       "<pre style=\"white-space:pre;overflow-x:auto;line-height:normal;font-family:Menlo,'DejaVu Sans Mono',consolas,'Courier New',monospace\"><span style=\"font-weight: bold\">Model: \"distil_bert_classifier\"</span>\n",
       "</pre>\n"
      ],
      "text/plain": [
       "\u001b[1mModel: \"distil_bert_classifier\"\u001b[0m\n"
      ]
     },
     "metadata": {},
     "output_type": "display_data"
    },
    {
     "data": {
      "text/html": [
       "<pre style=\"white-space:pre;overflow-x:auto;line-height:normal;font-family:Menlo,'DejaVu Sans Mono',consolas,'Courier New',monospace\">┏━━━━━━━━━━━━━━━━━━━━━━━━━━━━━━━━━━━━━━━━━━━━━━━┳━━━━━━━━━━━━━━━━━━━━━━━━━━━━━━━━━━━━━━━━┳━━━━━━━━━━━━━━━━━┓\n",
       "┃<span style=\"font-weight: bold\"> Layer (type)                                  </span>┃<span style=\"font-weight: bold\"> Output Shape                           </span>┃<span style=\"font-weight: bold\">         Param # </span>┃\n",
       "┡━━━━━━━━━━━━━━━━━━━━━━━━━━━━━━━━━━━━━━━━━━━━━━━╇━━━━━━━━━━━━━━━━━━━━━━━━━━━━━━━━━━━━━━━━╇━━━━━━━━━━━━━━━━━┩\n",
       "│ padding_mask (<span style=\"color: #0087ff; text-decoration-color: #0087ff\">InputLayer</span>)                     │ (<span style=\"color: #00d7ff; text-decoration-color: #00d7ff\">None</span>, <span style=\"color: #00d7ff; text-decoration-color: #00d7ff\">None</span>)                           │               <span style=\"color: #00af00; text-decoration-color: #00af00\">0</span> │\n",
       "├───────────────────────────────────────────────┼────────────────────────────────────────┼─────────────────┤\n",
       "│ token_ids (<span style=\"color: #0087ff; text-decoration-color: #0087ff\">InputLayer</span>)                        │ (<span style=\"color: #00d7ff; text-decoration-color: #00d7ff\">None</span>, <span style=\"color: #00d7ff; text-decoration-color: #00d7ff\">None</span>)                           │               <span style=\"color: #00af00; text-decoration-color: #00af00\">0</span> │\n",
       "├───────────────────────────────────────────────┼────────────────────────────────────────┼─────────────────┤\n",
       "│ distil_bert_backbone (<span style=\"color: #0087ff; text-decoration-color: #0087ff\">DistilBertBackbone</span>)     │ (<span style=\"color: #00d7ff; text-decoration-color: #00d7ff\">None</span>, <span style=\"color: #00d7ff; text-decoration-color: #00d7ff\">None</span>, <span style=\"color: #00af00; text-decoration-color: #00af00\">768</span>)                      │      <span style=\"color: #00af00; text-decoration-color: #00af00\">66,362,880</span> │\n",
       "├───────────────────────────────────────────────┼────────────────────────────────────────┼─────────────────┤\n",
       "│ tf.__operators__.getitem (<span style=\"color: #0087ff; text-decoration-color: #0087ff\">SlicingOpLambda</span>)    │ (<span style=\"color: #00d7ff; text-decoration-color: #00d7ff\">None</span>, <span style=\"color: #00af00; text-decoration-color: #00af00\">768</span>)                            │               <span style=\"color: #00af00; text-decoration-color: #00af00\">0</span> │\n",
       "├───────────────────────────────────────────────┼────────────────────────────────────────┼─────────────────┤\n",
       "│ pooled_dense (<span style=\"color: #0087ff; text-decoration-color: #0087ff\">Dense</span>)                          │ (<span style=\"color: #00d7ff; text-decoration-color: #00d7ff\">None</span>, <span style=\"color: #00af00; text-decoration-color: #00af00\">768</span>)                            │         <span style=\"color: #00af00; text-decoration-color: #00af00\">590,592</span> │\n",
       "├───────────────────────────────────────────────┼────────────────────────────────────────┼─────────────────┤\n",
       "│ output_dropout (<span style=\"color: #0087ff; text-decoration-color: #0087ff\">Dropout</span>)                      │ (<span style=\"color: #00d7ff; text-decoration-color: #00d7ff\">None</span>, <span style=\"color: #00af00; text-decoration-color: #00af00\">768</span>)                            │               <span style=\"color: #00af00; text-decoration-color: #00af00\">0</span> │\n",
       "├───────────────────────────────────────────────┼────────────────────────────────────────┼─────────────────┤\n",
       "│ logits (<span style=\"color: #0087ff; text-decoration-color: #0087ff\">Dense</span>)                                │ (<span style=\"color: #00d7ff; text-decoration-color: #00d7ff\">None</span>, <span style=\"color: #00af00; text-decoration-color: #00af00\">2</span>)                              │           <span style=\"color: #00af00; text-decoration-color: #00af00\">1,538</span> │\n",
       "└───────────────────────────────────────────────┴────────────────────────────────────────┴─────────────────┘\n",
       "</pre>\n"
      ],
      "text/plain": [
       "┏━━━━━━━━━━━━━━━━━━━━━━━━━━━━━━━━━━━━━━━━━━━━━━━┳━━━━━━━━━━━━━━━━━━━━━━━━━━━━━━━━━━━━━━━━┳━━━━━━━━━━━━━━━━━┓\n",
       "┃\u001b[1m \u001b[0m\u001b[1mLayer (type)                                 \u001b[0m\u001b[1m \u001b[0m┃\u001b[1m \u001b[0m\u001b[1mOutput Shape                          \u001b[0m\u001b[1m \u001b[0m┃\u001b[1m \u001b[0m\u001b[1m        Param #\u001b[0m\u001b[1m \u001b[0m┃\n",
       "┡━━━━━━━━━━━━━━━━━━━━━━━━━━━━━━━━━━━━━━━━━━━━━━━╇━━━━━━━━━━━━━━━━━━━━━━━━━━━━━━━━━━━━━━━━╇━━━━━━━━━━━━━━━━━┩\n",
       "│ padding_mask (\u001b[38;5;33mInputLayer\u001b[0m)                     │ (\u001b[38;5;45mNone\u001b[0m, \u001b[38;5;45mNone\u001b[0m)                           │               \u001b[38;5;34m0\u001b[0m │\n",
       "├───────────────────────────────────────────────┼────────────────────────────────────────┼─────────────────┤\n",
       "│ token_ids (\u001b[38;5;33mInputLayer\u001b[0m)                        │ (\u001b[38;5;45mNone\u001b[0m, \u001b[38;5;45mNone\u001b[0m)                           │               \u001b[38;5;34m0\u001b[0m │\n",
       "├───────────────────────────────────────────────┼────────────────────────────────────────┼─────────────────┤\n",
       "│ distil_bert_backbone (\u001b[38;5;33mDistilBertBackbone\u001b[0m)     │ (\u001b[38;5;45mNone\u001b[0m, \u001b[38;5;45mNone\u001b[0m, \u001b[38;5;34m768\u001b[0m)                      │      \u001b[38;5;34m66,362,880\u001b[0m │\n",
       "├───────────────────────────────────────────────┼────────────────────────────────────────┼─────────────────┤\n",
       "│ tf.__operators__.getitem (\u001b[38;5;33mSlicingOpLambda\u001b[0m)    │ (\u001b[38;5;45mNone\u001b[0m, \u001b[38;5;34m768\u001b[0m)                            │               \u001b[38;5;34m0\u001b[0m │\n",
       "├───────────────────────────────────────────────┼────────────────────────────────────────┼─────────────────┤\n",
       "│ pooled_dense (\u001b[38;5;33mDense\u001b[0m)                          │ (\u001b[38;5;45mNone\u001b[0m, \u001b[38;5;34m768\u001b[0m)                            │         \u001b[38;5;34m590,592\u001b[0m │\n",
       "├───────────────────────────────────────────────┼────────────────────────────────────────┼─────────────────┤\n",
       "│ output_dropout (\u001b[38;5;33mDropout\u001b[0m)                      │ (\u001b[38;5;45mNone\u001b[0m, \u001b[38;5;34m768\u001b[0m)                            │               \u001b[38;5;34m0\u001b[0m │\n",
       "├───────────────────────────────────────────────┼────────────────────────────────────────┼─────────────────┤\n",
       "│ logits (\u001b[38;5;33mDense\u001b[0m)                                │ (\u001b[38;5;45mNone\u001b[0m, \u001b[38;5;34m2\u001b[0m)                              │           \u001b[38;5;34m1,538\u001b[0m │\n",
       "└───────────────────────────────────────────────┴────────────────────────────────────────┴─────────────────┘\n"
      ]
     },
     "metadata": {},
     "output_type": "display_data"
    },
    {
     "data": {
      "text/html": [
       "<pre style=\"white-space:pre;overflow-x:auto;line-height:normal;font-family:Menlo,'DejaVu Sans Mono',consolas,'Courier New',monospace\"><span style=\"font-weight: bold\"> Total params: </span><span style=\"color: #00af00; text-decoration-color: #00af00\">66,955,010</span> (255.41 MB)\n",
       "</pre>\n"
      ],
      "text/plain": [
       "\u001b[1m Total params: \u001b[0m\u001b[38;5;34m66,955,010\u001b[0m (255.41 MB)\n"
      ]
     },
     "metadata": {},
     "output_type": "display_data"
    },
    {
     "data": {
      "text/html": [
       "<pre style=\"white-space:pre;overflow-x:auto;line-height:normal;font-family:Menlo,'DejaVu Sans Mono',consolas,'Courier New',monospace\"><span style=\"font-weight: bold\"> Trainable params: </span><span style=\"color: #00af00; text-decoration-color: #00af00\">66,955,010</span> (255.41 MB)\n",
       "</pre>\n"
      ],
      "text/plain": [
       "\u001b[1m Trainable params: \u001b[0m\u001b[38;5;34m66,955,010\u001b[0m (255.41 MB)\n"
      ]
     },
     "metadata": {},
     "output_type": "display_data"
    },
    {
     "data": {
      "text/html": [
       "<pre style=\"white-space:pre;overflow-x:auto;line-height:normal;font-family:Menlo,'DejaVu Sans Mono',consolas,'Courier New',monospace\"><span style=\"font-weight: bold\"> Non-trainable params: </span><span style=\"color: #00af00; text-decoration-color: #00af00\">0</span> (0.00 B)\n",
       "</pre>\n"
      ],
      "text/plain": [
       "\u001b[1m Non-trainable params: \u001b[0m\u001b[38;5;34m0\u001b[0m (0.00 B)\n"
      ]
     },
     "metadata": {},
     "output_type": "display_data"
    },
    {
     "name": "stdout",
     "output_type": "stream",
     "text": [
      "Epoch 1/3\n"
     ]
    },
    {
     "name": "stderr",
     "output_type": "stream",
     "text": [
      "WARNING: All log messages before absl::InitializeLog() is called are written to STDERR\n",
      "I0000 00:00:1714096083.923525      83 device_compiler.h:186] Compiled cluster using XLA!  This line is logged at most once for the lifetime of the process.\n",
      "W0000 00:00:1714096084.086336      83 graph_launch.cc:671] Fallback to op-by-op mode because memset node breaks graph update\n"
     ]
    },
    {
     "name": "stdout",
     "output_type": "stream",
     "text": [
      "96/96 [==============================] - ETA: 0s - loss: 0.5793 - accuracy: 0.7069"
     ]
    },
    {
     "name": "stderr",
     "output_type": "stream",
     "text": [
      "W0000 00:00:1714096175.044449      83 graph_launch.cc:671] Fallback to op-by-op mode because memset node breaks graph update\n",
      "W0000 00:00:1714096179.383570      81 graph_launch.cc:671] Fallback to op-by-op mode because memset node breaks graph update\n",
      "W0000 00:00:1714096187.831838      83 graph_launch.cc:671] Fallback to op-by-op mode because memset node breaks graph update\n"
     ]
    },
    {
     "name": "stdout",
     "output_type": "stream",
     "text": [
      "96/96 [==============================] - 139s 1s/step - loss: 0.5793 - accuracy: 0.7069 - val_loss: 0.4607 - val_accuracy: 0.7984\n",
      "Epoch 2/3\n",
      "96/96 [==============================] - 89s 927ms/step - loss: 0.4437 - accuracy: 0.8089 - val_loss: 0.4303 - val_accuracy: 0.8162\n",
      "Epoch 3/3\n",
      "96/96 [==============================] - 89s 925ms/step - loss: 0.3924 - accuracy: 0.8409 - val_loss: 0.4271 - val_accuracy: 0.8194\n"
     ]
    }
   ],
   "source": [
    "preset= \"distil_bert_base_en_uncased\"\n",
    "preprocessor = keras_nlp.models.DistilBertPreprocessor.from_preset(preset, sequence_length=160, name=\"preprocessor_4_tweets\")\n",
    "classifier = keras_nlp.models.DistilBertClassifier.from_preset(preset,preprocessor = preprocessor,num_classes=2)\n",
    "\n",
    "classifier.summary()\n",
    "\n",
    "classifier.compile(\n",
    "    loss=keras.losses.SparseCategoricalCrossentropy(from_logits=True),\n",
    "    optimizer=tf.keras.optimizers.Adam(1e-5),\n",
    "    metrics= [\"accuracy\"]  \n",
    ")\n",
    "\n",
    "history = classifier.fit(x=X_train,\n",
    "                         y=y_train,\n",
    "                         batch_size=BATCH_SIZE,\n",
    "                         epochs=EPOCHS, \n",
    "                         validation_data=(X_val, y_val))"
   ]
  },
  {
   "cell_type": "markdown",
   "id": "2805b7be",
   "metadata": {
    "papermill": {
     "duration": 0.037296,
     "end_time": "2024-04-26T01:52:46.220666",
     "exception": false,
     "start_time": "2024-04-26T01:52:46.183370",
     "status": "completed"
    },
    "tags": []
   },
   "source": [
    "### Evaluation"
   ]
  },
  {
   "cell_type": "markdown",
   "id": "3ace20e0",
   "metadata": {
    "papermill": {
     "duration": 0.036237,
     "end_time": "2024-04-26T01:52:46.293228",
     "exception": false,
     "start_time": "2024-04-26T01:52:46.256991",
     "status": "completed"
    },
    "tags": []
   },
   "source": [
    "We can have a more direct visualization about the model quality."
   ]
  },
  {
   "cell_type": "code",
   "execution_count": 13,
   "id": "de3f70df",
   "metadata": {
    "execution": {
     "iopub.execute_input": "2024-04-26T01:52:46.374432Z",
     "iopub.status.busy": "2024-04-26T01:52:46.374032Z",
     "iopub.status.idle": "2024-04-26T01:52:46.381839Z",
     "shell.execute_reply": "2024-04-26T01:52:46.381123Z"
    },
    "papermill": {
     "duration": 0.051712,
     "end_time": "2024-04-26T01:52:46.383816",
     "exception": false,
     "start_time": "2024-04-26T01:52:46.332104",
     "status": "completed"
    },
    "tags": []
   },
   "outputs": [],
   "source": [
    "def displayConfusionMatrix(y_true, y_pred, dataset):\n",
    "    disp = ConfusionMatrixDisplay.from_predictions(\n",
    "        y_true,\n",
    "        np.argmax(y_pred, axis=1),\n",
    "        display_labels=[\"Not Disaster\",\"Disaster\"],\n",
    "        cmap=plt.cm.Blues\n",
    "    )\n",
    "\n",
    "    tn, fp, fn, tp = confusion_matrix(y_true, np.argmax(y_pred, axis=1)).ravel()\n",
    "    f1_score = tp / (tp+((fn+fp)/2))\n",
    "\n",
    "    disp.ax_.set_title(\"Confusion Matrix on \" + dataset + \" Dataset -- F1 Score: \" + str(f1_score.round(2)))\n"
   ]
  },
  {
   "cell_type": "code",
   "execution_count": 14,
   "id": "77698f1f",
   "metadata": {
    "execution": {
     "iopub.execute_input": "2024-04-26T01:52:46.461999Z",
     "iopub.status.busy": "2024-04-26T01:52:46.461699Z",
     "iopub.status.idle": "2024-04-26T01:53:18.078928Z",
     "shell.execute_reply": "2024-04-26T01:53:18.078029Z"
    },
    "papermill": {
     "duration": 31.658716,
     "end_time": "2024-04-26T01:53:18.081077",
     "exception": false,
     "start_time": "2024-04-26T01:52:46.422361",
     "status": "completed"
    },
    "tags": []
   },
   "outputs": [
    {
     "name": "stdout",
     "output_type": "stream",
     "text": [
      "  2/191 [..............................] - ETA: 22s  "
     ]
    },
    {
     "name": "stderr",
     "output_type": "stream",
     "text": [
      "W0000 00:00:1714096370.870982      84 graph_launch.cc:671] Fallback to op-by-op mode because memset node breaks graph update\n"
     ]
    },
    {
     "name": "stdout",
     "output_type": "stream",
     "text": [
      "191/191 [==============================] - 30s 141ms/step\n"
     ]
    },
    {
     "name": "stderr",
     "output_type": "stream",
     "text": [
      "W0000 00:00:1714096397.660580      81 graph_launch.cc:671] Fallback to op-by-op mode because memset node breaks graph update\n"
     ]
    },
    {
     "data": {
      "image/png": "[encoded data removed]",
      "text/plain": [
       "<Figure size 640x480 with 2 Axes>"
      ]
     },
     "metadata": {},
     "output_type": "display_data"
    }
   ],
   "source": [
    "y_pred_train = classifier.predict(X_train)\n",
    "\n",
    "displayConfusionMatrix(y_train, y_pred_train, \"Training\")"
   ]
  },
  {
   "cell_type": "code",
   "execution_count": 15,
   "id": "4a02b8af",
   "metadata": {
    "execution": {
     "iopub.execute_input": "2024-04-26T01:53:18.189559Z",
     "iopub.status.busy": "2024-04-26T01:53:18.189220Z",
     "iopub.status.idle": "2024-04-26T01:53:27.981116Z",
     "shell.execute_reply": "2024-04-26T01:53:27.980124Z"
    },
    "papermill": {
     "duration": 9.84917,
     "end_time": "2024-04-26T01:53:27.983342",
     "exception": false,
     "start_time": "2024-04-26T01:53:18.134172",
     "status": "completed"
    },
    "tags": []
   },
   "outputs": [
    {
     "name": "stdout",
     "output_type": "stream",
     "text": [
      "48/48 [==============================] - 9s 172ms/step\n"
     ]
    },
    {
     "name": "stderr",
     "output_type": "stream",
     "text": [
      "W0000 00:00:1714096407.582446      83 graph_launch.cc:671] Fallback to op-by-op mode because memset node breaks graph update\n"
     ]
    },
    {
     "data": {
      "image/png": "[encoded data removed]",
      "text/plain": [
       "<Figure size 640x480 with 2 Axes>"
      ]
     },
     "metadata": {},
     "output_type": "display_data"
    }
   ],
   "source": [
    "y_pred_val = classifier.predict(X_val)\n",
    "\n",
    "displayConfusionMatrix(y_val, y_pred_val, \"Validation\")"
   ]
  },
  {
   "cell_type": "code",
   "execution_count": 16,
   "id": "156bbcb1",
   "metadata": {
    "execution": {
     "iopub.execute_input": "2024-04-26T01:53:28.104188Z",
     "iopub.status.busy": "2024-04-26T01:53:28.103821Z",
     "iopub.status.idle": "2024-04-26T01:54:03.667682Z",
     "shell.execute_reply": "2024-04-26T01:54:03.666788Z"
    },
    "papermill": {
     "duration": 35.626491,
     "end_time": "2024-04-26T01:54:03.669789",
     "exception": false,
     "start_time": "2024-04-26T01:53:28.043298",
     "status": "completed"
    },
    "tags": []
   },
   "outputs": [
    {
     "name": "stdout",
     "output_type": "stream",
     "text": [
      "191/191 [==============================] - 26s 134ms/step\n",
      "Training Accuracy: 0.87\n",
      "Training Precision: 0.88\n",
      "Training Recall: 0.82\n",
      "Training F1 Score: 0.85\n",
      "48/48 [==============================] - 7s 133ms/step\n",
      "Validation Accuracy: 0.82\n",
      "Validation Precision: 0.80\n",
      "Validation Recall: 0.76\n",
      "Validation F1 Score: 0.78\n"
     ]
    },
    {
     "data": {
      "image/png": "[encoded data removed]",
      "text/plain": [
       "<Figure size 640x480 with 1 Axes>"
      ]
     },
     "metadata": {},
     "output_type": "display_data"
    }
   ],
   "source": [
    "from sklearn.metrics import accuracy_score, precision_score, recall_score, f1_score\n",
    "\n",
    "y_pred_train2 = np.argmax(classifier.predict(X_train), axis=1)\n",
    "\n",
    "accuracy_train = accuracy_score(y_train, y_pred_train2)\n",
    "precision_train = precision_score(y_train, y_pred_train2)\n",
    "recall_train = recall_score(y_train, y_pred_train2)\n",
    "f1_train = f1_score(y_train, y_pred_train2)\n",
    "\n",
    "print('Training Accuracy: {:.2f}'.format(accuracy_train))\n",
    "print('Training Precision: {:.2f}'.format(precision_train))\n",
    "print('Training Recall: {:.2f}'.format(recall_train))\n",
    "print('Training F1 Score: {:.2f}'.format(f1_train))\n",
    "\n",
    "y_pred_val2 = np.argmax(classifier.predict(X_val), axis=1)\n",
    "\n",
    "accuracy_val = accuracy_score(y_val, y_pred_val2)\n",
    "precision_val = precision_score(y_val, y_pred_val2)\n",
    "recall_val = recall_score(y_val, y_pred_val2)\n",
    "f1_val = f1_score(y_val, y_pred_val2)\n",
    "\n",
    "print('Validation Accuracy: {:.2f}'.format(accuracy_val))\n",
    "print('Validation Precision: {:.2f}'.format(precision_val))\n",
    "print('Validation Recall: {:.2f}'.format(recall_val))\n",
    "print('Validation F1 Score: {:.2f}'.format(f1_val))\n",
    "\n",
    "\n",
    "metrics_train = [accuracy_train, precision_train, recall_train, f1_train]\n",
    "metrics_val = [accuracy_val, precision_val, recall_val, f1_val]\n",
    "\n",
    "labels = ['Accuracy', 'Precision', 'Recall', 'F1 Score']\n",
    "x = np.arange(len(labels))\n",
    "width = 0.35\n",
    "\n",
    "fig, ax = plt.subplots()\n",
    "rects1 = ax.bar(x - width/2, metrics_train, width, label='Train')\n",
    "rects2 = ax.bar(x + width/2, metrics_val, width, label='Validation')\n",
    "\n",
    "ax.set_ylabel('Scores')\n",
    "ax.set_title('Scores by group and gender')\n",
    "ax.set_xticks(x)\n",
    "ax.set_xticklabels(labels)\n",
    "ax.legend()\n",
    "\n",
    "fig.tight_layout()\n",
    "\n",
    "plt.show()\n"
   ]
  },
  {
   "cell_type": "markdown",
   "id": "1d9fe5b5",
   "metadata": {
    "papermill": {
     "duration": 0.081304,
     "end_time": "2024-04-26T01:54:03.831106",
     "exception": false,
     "start_time": "2024-04-26T01:54:03.749802",
     "status": "completed"
    },
    "tags": []
   },
   "source": [
    "## Prediction Output"
   ]
  },
  {
   "cell_type": "markdown",
   "id": "fc0e0f74",
   "metadata": {
    "papermill": {
     "duration": 0.092496,
     "end_time": "2024-04-26T01:54:04.002735",
     "exception": false,
     "start_time": "2024-04-26T01:54:03.910239",
     "status": "completed"
    },
    "tags": []
   },
   "source": [
    "And print the output to file."
   ]
  },
  {
   "cell_type": "code",
   "execution_count": 17,
   "id": "70efbef1",
   "metadata": {
    "execution": {
     "iopub.execute_input": "2024-04-26T01:54:04.160135Z",
     "iopub.status.busy": "2024-04-26T01:54:04.159715Z",
     "iopub.status.idle": "2024-04-26T01:54:21.072868Z",
     "shell.execute_reply": "2024-04-26T01:54:21.071942Z"
    },
    "papermill": {
     "duration": 16.994162,
     "end_time": "2024-04-26T01:54:21.075084",
     "exception": false,
     "start_time": "2024-04-26T01:54:04.080922",
     "status": "completed"
    },
    "tags": []
   },
   "outputs": [
    {
     "name": "stdout",
     "output_type": "stream",
     "text": [
      "102/102 [==============================] - 16s 153ms/step\n"
     ]
    },
    {
     "name": "stderr",
     "output_type": "stream",
     "text": [
      "W0000 00:00:1714096460.929697      83 graph_launch.cc:671] Fallback to op-by-op mode because memset node breaks graph update\n"
     ]
    }
   ],
   "source": [
    "sample_submission = pd.read_csv(\"/kaggle/input/nlp-getting-started/sample_submission.csv\")\n",
    "\n",
    "sample_submission[\"target\"] = np.argmax(classifier.predict(X_test), axis=1)\n",
    "\n",
    "sample_submission.to_csv(\"submission.csv\", index=False)"
   ]
  },
  {
   "cell_type": "markdown",
   "id": "22d29292",
   "metadata": {
    "papermill": {
     "duration": 0.085094,
     "end_time": "2024-04-26T01:54:21.246114",
     "exception": false,
     "start_time": "2024-04-26T01:54:21.161020",
     "status": "completed"
    },
    "tags": []
   },
   "source": [
    "## Conclusion\n",
    "\n",
    "In this project, we successfully solved a natural language processing (NLP) problem of predicting whether tweets describe real disasters. \n",
    "\n",
    "We first performed a series of preprocessing steps on the tweets, including conversion to lowercase, word splitting, deactivation, and stemming extraction, in order to allow the model to better understand the meaning of the text. \n",
    "\n",
    "We then trained and predicted using the DistilBert model, a powerful pre-trained deep learning model that understands the contextual meaning of the text to effectively distinguish between tweets describing real disasters and those that are not. \n",
    "\n",
    "During the model training and prediction process, we also use a confusion matrix to evaluate the model's performance and ensure that our model can accurately predict real disaster tweets. \n",
    "\n",
    "Finally, we completed the project by submitting our predictions to the competition platform. Overall, this project demonstrates how deep learning techniques can be used to solve real-world NLP problems and provides a valuable reference for future related research and applications.\n",
    "\n",
    "The selected backend is TensorFlow, while pyTorch can also be selected."
   ]
  }
 ],
 "metadata": {
  "kaggle": {
   "accelerator": "nvidiaTeslaT4",
   "dataSources": [
    {
     "databundleVersionId": 869809,
     "sourceId": 17777,
     "sourceType": "competition"
    },
    {
     "modelInstanceId": 4689,
     "sourceId": 6068,
     "sourceType": "modelInstanceVersion"
    }
   ],
   "dockerImageVersionId": 30699,
   "isGpuEnabled": true,
   "isInternetEnabled": true,
   "language": "python",
   "sourceType": "notebook"
  },
  "kernelspec": {
   "display_name": "Python 3",
   "language": "python",
   "name": "python3"
  },
  "language_info": {
   "codemirror_mode": {
    "name": "ipython",
    "version": 3
   },
   "file_extension": ".py",
   "mimetype": "text/x-python",
   "name": "python",
   "nbconvert_exporter": "python",
   "pygments_lexer": "ipython3",
   "version": "3.10.13"
  },
  "papermill": {
   "default_parameters": {},
   "duration": 486.640042,
   "end_time": "2024-04-26T01:54:24.368272",
   "environment_variables": {},
   "exception": null,
   "input_path": "__notebook__.ipynb",
   "output_path": "__notebook__.ipynb",
   "parameters": {},
   "start_time": "2024-04-26T01:46:17.728230",
   "version": "2.5.0"
  }
 },
 "nbformat": 4,
 "nbformat_minor": 5
}
