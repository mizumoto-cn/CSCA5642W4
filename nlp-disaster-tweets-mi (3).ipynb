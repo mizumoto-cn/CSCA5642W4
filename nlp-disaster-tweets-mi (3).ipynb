{
 "cells": [
  {
   "cell_type": "markdown",
   "id": "6314e23b",
   "metadata": {
    "papermill": {
     "duration": 0.011138,
     "end_time": "2024-04-26T01:03:31.017948",
     "exception": false,
     "start_time": "2024-04-26T01:03:31.006810",
     "status": "completed"
    },
    "tags": []
   },
   "source": [
    "# NLP Disaster Tweets Project"
   ]
  },
  {
   "cell_type": "markdown",
   "id": "88ee55a5",
   "metadata": {
    "papermill": {
     "duration": 0.010369,
     "end_time": "2024-04-26T01:03:31.038963",
     "exception": false,
     "start_time": "2024-04-26T01:03:31.028594",
     "status": "completed"
    },
    "tags": []
   },
   "source": [
    "Our goal is to solve a Natural Language Processing (NLP) problem of predicting whether tweets describe real disasters. \n",
    "\n",
    "The challenge of this problem is that people may use words in their tweets that describe a disaster, but are not describing a real disaster. To solve this problem, we use the DistilBert model, which is a pre-trained deep learning model that understands the contextual meaning of text. \n",
    "\n",
    "We first preprocessed the text, including conversion to lowercase, word splitting, deactivation, and stemming extraction, and then trained and predicted with the DistilBert model. Finally, we use the confusion matrix to evaluate the performance of the model and submit the predictions to the competition platform. We hope this brief will help you understand our problem and solution."
   ]
  },
  {
   "cell_type": "code",
   "execution_count": 1,
   "id": "edcbafd5",
   "metadata": {
    "_cell_guid": "b1076dfc-b9ad-4769-8c92-a6c4dae69d19",
    "_uuid": "8f2839f25d086af736a60e9eeb907d3b93b6e0e5",
    "execution": {
     "iopub.execute_input": "2024-04-26T01:03:31.061574Z",
     "iopub.status.busy": "2024-04-26T01:03:31.061177Z",
     "iopub.status.idle": "2024-04-26T01:04:31.920720Z",
     "shell.execute_reply": "2024-04-26T01:04:31.918449Z"
    },
    "papermill": {
     "duration": 60.874114,
     "end_time": "2024-04-26T01:04:31.923570",
     "exception": false,
     "start_time": "2024-04-26T01:03:31.049456",
     "status": "completed"
    },
    "tags": []
   },
   "outputs": [
    {
     "name": "stdout",
     "output_type": "stream",
     "text": [
      "Collecting keras-core\r\n",
      "  Downloading keras_core-0.1.7-py3-none-any.whl.metadata (4.3 kB)\r\n",
      "Requirement already satisfied: absl-py in /opt/conda/lib/python3.10/site-packages (from keras-core) (1.4.0)\r\n",
      "Requirement already satisfied: numpy in /opt/conda/lib/python3.10/site-packages (from keras-core) (1.26.4)\r\n",
      "Requirement already satisfied: rich in /opt/conda/lib/python3.10/site-packages (from keras-core) (13.7.0)\r\n",
      "Requirement already satisfied: namex in /opt/conda/lib/python3.10/site-packages (from keras-core) (0.0.8)\r\n",
      "Requirement already satisfied: h5py in /opt/conda/lib/python3.10/site-packages (from keras-core) (3.10.0)\r\n",
      "Requirement already satisfied: dm-tree in /opt/conda/lib/python3.10/site-packages (from keras-core) (0.1.8)\r\n",
      "Requirement already satisfied: markdown-it-py>=2.2.0 in /opt/conda/lib/python3.10/site-packages (from rich->keras-core) (3.0.0)\r\n",
      "Requirement already satisfied: pygments<3.0.0,>=2.13.0 in /opt/conda/lib/python3.10/site-packages (from rich->keras-core) (2.17.2)\r\n",
      "Requirement already satisfied: mdurl~=0.1 in /opt/conda/lib/python3.10/site-packages (from markdown-it-py>=2.2.0->rich->keras-core) (0.1.2)\r\n",
      "Downloading keras_core-0.1.7-py3-none-any.whl (950 kB)\r\n",
      "\u001b[2K   \u001b[90m━━━━━━━━━━━━━━━━━━━━━━━━━━━━━━━━━━━━━━━━\u001b[0m \u001b[32m950.8/950.8 kB\u001b[0m \u001b[31m5.1 MB/s\u001b[0m eta \u001b[36m0:00:00\u001b[0m\r\n",
      "\u001b[?25hInstalling collected packages: keras-core\r\n",
      "Successfully installed keras-core-0.1.7\r\n",
      "\u001b[31mERROR: pip's dependency resolver does not currently take into account all the packages that are installed. This behaviour is the source of the following dependency conflicts.\r\n",
      "tensorflow-decision-forests 1.8.1 requires wurlitzer, which is not installed.\u001b[0m\u001b[31m\r\n",
      "\u001b[0m"
     ]
    },
    {
     "name": "stderr",
     "output_type": "stream",
     "text": [
      "2024-04-26 01:04:12.345539: E external/local_xla/xla/stream_executor/cuda/cuda_dnn.cc:9261] Unable to register cuDNN factory: Attempting to register factory for plugin cuDNN when one has already been registered\n",
      "2024-04-26 01:04:12.345651: E external/local_xla/xla/stream_executor/cuda/cuda_fft.cc:607] Unable to register cuFFT factory: Attempting to register factory for plugin cuFFT when one has already been registered\n",
      "2024-04-26 01:04:12.598211: E external/local_xla/xla/stream_executor/cuda/cuda_blas.cc:1515] Unable to register cuBLAS factory: Attempting to register factory for plugin cuBLAS when one has already been registered\n"
     ]
    },
    {
     "name": "stdout",
     "output_type": "stream",
     "text": [
      "Using TensorFlow backend\n"
     ]
    }
   ],
   "source": [
    "!pip install keras-core --upgrade\n",
    "!pip install -q keras-nlp --upgrade\n",
    "import os\n",
    "import numpy as np\n",
    "import pandas as pd\n",
    "import tensorflow as tf\n",
    "import keras_core as keras\n",
    "import keras_nlp\n",
    "from sklearn.metrics import ConfusionMatrixDisplay, confusion_matrix\n",
    "import seaborn as sns\n",
    "import matplotlib.pyplot as plt\n",
    "from nltk.corpus import stopwords\n",
    "from nltk.stem import PorterStemmer"
   ]
  },
  {
   "cell_type": "markdown",
   "id": "54ddc009",
   "metadata": {
    "papermill": {
     "duration": 0.011469,
     "end_time": "2024-04-26T01:04:31.947314",
     "exception": false,
     "start_time": "2024-04-26T01:04:31.935845",
     "status": "completed"
    },
    "tags": []
   },
   "source": [
    "The selected backend is TensorFlow, while pyTorch can also be selected."
   ]
  },
  {
   "cell_type": "code",
   "execution_count": 2,
   "id": "26407cfd",
   "metadata": {
    "execution": {
     "iopub.execute_input": "2024-04-26T01:04:31.972712Z",
     "iopub.status.busy": "2024-04-26T01:04:31.972037Z",
     "iopub.status.idle": "2024-04-26T01:04:31.978059Z",
     "shell.execute_reply": "2024-04-26T01:04:31.977096Z"
    },
    "papermill": {
     "duration": 0.021664,
     "end_time": "2024-04-26T01:04:31.980828",
     "exception": false,
     "start_time": "2024-04-26T01:04:31.959164",
     "status": "completed"
    },
    "tags": []
   },
   "outputs": [
    {
     "name": "stdout",
     "output_type": "stream",
     "text": [
      "TensorFlow version: 2.15.0\n",
      "KerasNLP version: 0.9.3\n"
     ]
    }
   ],
   "source": [
    "os.environ['KERAS_BACKEND'] = 'tensorflow'\n",
    "\n",
    "print(\"TensorFlow version:\", tf.__version__)\n",
    "print(\"KerasNLP version:\", keras_nlp.__version__)"
   ]
  },
  {
   "cell_type": "markdown",
   "id": "118644c3",
   "metadata": {
    "papermill": {
     "duration": 0.011496,
     "end_time": "2024-04-26T01:04:32.006094",
     "exception": false,
     "start_time": "2024-04-26T01:04:31.994598",
     "status": "completed"
    },
    "tags": []
   },
   "source": [
    "## EDA\n",
    "\n",
    "### Data Importing"
   ]
  },
  {
   "cell_type": "code",
   "execution_count": 3,
   "id": "3ce6c1ad",
   "metadata": {
    "execution": {
     "iopub.execute_input": "2024-04-26T01:04:32.030778Z",
     "iopub.status.busy": "2024-04-26T01:04:32.030399Z",
     "iopub.status.idle": "2024-04-26T01:04:32.131466Z",
     "shell.execute_reply": "2024-04-26T01:04:32.130282Z"
    },
    "papermill": {
     "duration": 0.116618,
     "end_time": "2024-04-26T01:04:32.134312",
     "exception": false,
     "start_time": "2024-04-26T01:04:32.017694",
     "status": "completed"
    },
    "tags": []
   },
   "outputs": [
    {
     "name": "stdout",
     "output_type": "stream",
     "text": [
      "Training Set Shape = (7613, 5)\n",
      "Training Set Memory Usage = 0.29 MB\n",
      "Test Set Shape = (3263, 4)\n",
      "Test Set Memory Usage = 0.10 MB\n"
     ]
    }
   ],
   "source": [
    "df_train = pd.read_csv(\"/kaggle/input/nlp-getting-started/train.csv\")\n",
    "df_test = pd.read_csv(\"/kaggle/input/nlp-getting-started/test.csv\")\n",
    "\n",
    "print('Training Set Shape = {}'.format(df_train.shape))\n",
    "print('Training Set Memory Usage = {:.2f} MB'.format(df_train.memory_usage().sum() / 1024**2))\n",
    "print('Test Set Shape = {}'.format(df_test.shape))\n",
    "print('Test Set Memory Usage = {:.2f} MB'.format(df_test.memory_usage().sum() / 1024**2))"
   ]
  },
  {
   "cell_type": "markdown",
   "id": "47367be5",
   "metadata": {
    "papermill": {
     "duration": 0.012028,
     "end_time": "2024-04-26T01:04:32.159963",
     "exception": false,
     "start_time": "2024-04-26T01:04:32.147935",
     "status": "completed"
    },
    "tags": []
   },
   "source": [
    "### Data Preprocessing"
   ]
  },
  {
   "cell_type": "markdown",
   "id": "303c0ee4",
   "metadata": {
    "papermill": {
     "duration": 0.011707,
     "end_time": "2024-04-26T01:04:32.183752",
     "exception": false,
     "start_time": "2024-04-26T01:04:32.172045",
     "status": "completed"
    },
    "tags": []
   },
   "source": [
    "Creating instances of stop words and stemming extractors"
   ]
  },
  {
   "cell_type": "code",
   "execution_count": 4,
   "id": "a8433e63",
   "metadata": {
    "execution": {
     "iopub.execute_input": "2024-04-26T01:04:32.209385Z",
     "iopub.status.busy": "2024-04-26T01:04:32.208993Z",
     "iopub.status.idle": "2024-04-26T01:04:32.229263Z",
     "shell.execute_reply": "2024-04-26T01:04:32.228251Z"
    },
    "papermill": {
     "duration": 0.036106,
     "end_time": "2024-04-26T01:04:32.231868",
     "exception": false,
     "start_time": "2024-04-26T01:04:32.195762",
     "status": "completed"
    },
    "tags": []
   },
   "outputs": [],
   "source": [
    "stop_words = set(stopwords.words('english'))\n",
    "ps = PorterStemmer()"
   ]
  },
  {
   "cell_type": "markdown",
   "id": "7476f7ae",
   "metadata": {
    "papermill": {
     "duration": 0.011718,
     "end_time": "2024-04-26T01:04:32.255873",
     "exception": false,
     "start_time": "2024-04-26T01:04:32.244155",
     "status": "completed"
    },
    "tags": []
   },
   "source": [
    "Pre-processing procedures:\n",
    "\n",
    "- Changing letters to lower case\n",
    "- remove stop words"
   ]
  },
  {
   "cell_type": "code",
   "execution_count": 5,
   "id": "edd0fa8a",
   "metadata": {
    "execution": {
     "iopub.execute_input": "2024-04-26T01:04:32.280919Z",
     "iopub.status.busy": "2024-04-26T01:04:32.280549Z",
     "iopub.status.idle": "2024-04-26T01:04:32.286384Z",
     "shell.execute_reply": "2024-04-26T01:04:32.285348Z"
    },
    "papermill": {
     "duration": 0.020894,
     "end_time": "2024-04-26T01:04:32.288612",
     "exception": false,
     "start_time": "2024-04-26T01:04:32.267718",
     "status": "completed"
    },
    "tags": []
   },
   "outputs": [],
   "source": [
    "def preprocess_text(text):\n",
    "    text = text.lower()\n",
    "    words = text.split()\n",
    "    words = [ps.stem(word) for word in words if word not in stop_words]\n",
    "    text = ' '.join(words)\n",
    "    return text"
   ]
  },
  {
   "cell_type": "code",
   "execution_count": 6,
   "id": "c664265e",
   "metadata": {
    "execution": {
     "iopub.execute_input": "2024-04-26T01:04:32.313645Z",
     "iopub.status.busy": "2024-04-26T01:04:32.313280Z",
     "iopub.status.idle": "2024-04-26T01:04:36.583081Z",
     "shell.execute_reply": "2024-04-26T01:04:36.581984Z"
    },
    "papermill": {
     "duration": 4.285282,
     "end_time": "2024-04-26T01:04:36.585729",
     "exception": false,
     "start_time": "2024-04-26T01:04:32.300447",
     "status": "completed"
    },
    "tags": []
   },
   "outputs": [
    {
     "name": "stdout",
     "output_type": "stream",
     "text": [
      "Train Length Stat\n",
      "count    7613.000000\n",
      "mean       77.905425\n",
      "std        28.700947\n",
      "min         4.000000\n",
      "25%        58.000000\n",
      "50%        80.000000\n",
      "75%       101.000000\n",
      "max       143.000000\n",
      "Name: length, dtype: float64\n",
      "Test Length Stat\n",
      "count    3263.000000\n",
      "mean       79.222188\n",
      "std        28.988327\n",
      "min         4.000000\n",
      "25%        59.000000\n",
      "50%        82.000000\n",
      "75%       102.000000\n",
      "max       143.000000\n",
      "Name: length, dtype: float64\n"
     ]
    }
   ],
   "source": [
    "df_train[\"text\"] = df_train[\"text\"].apply(preprocess_text)\n",
    "df_test[\"text\"] = df_test[\"text\"].apply(preprocess_text)\n",
    "\n",
    "df_train[\"length\"] = df_train[\"text\"].apply(lambda x : len(x))\n",
    "df_test[\"length\"] = df_test[\"text\"].apply(lambda x : len(x))\n",
    "\n",
    "print(\"Train Length Stat\")\n",
    "print(df_train[\"length\"].describe())\n",
    "print(\"Test Length Stat\")\n",
    "print(df_test[\"length\"].describe())"
   ]
  },
  {
   "cell_type": "markdown",
   "id": "7d3e5841",
   "metadata": {
    "papermill": {
     "duration": 0.011318,
     "end_time": "2024-04-26T01:04:36.609317",
     "exception": false,
     "start_time": "2024-04-26T01:04:36.597999",
     "status": "completed"
    },
    "tags": []
   },
   "source": [
    "### Data Visualization"
   ]
  },
  {
   "cell_type": "markdown",
   "id": "04ee9fe1",
   "metadata": {
    "papermill": {
     "duration": 0.011534,
     "end_time": "2024-04-26T01:04:36.632323",
     "exception": false,
     "start_time": "2024-04-26T01:04:36.620789",
     "status": "completed"
    },
    "tags": []
   },
   "source": [
    "Histogram of Tweet Length"
   ]
  },
  {
   "cell_type": "code",
   "execution_count": 7,
   "id": "593a1579",
   "metadata": {
    "execution": {
     "iopub.execute_input": "2024-04-26T01:04:36.657267Z",
     "iopub.status.busy": "2024-04-26T01:04:36.656885Z",
     "iopub.status.idle": "2024-04-26T01:04:37.099766Z",
     "shell.execute_reply": "2024-04-26T01:04:37.098703Z"
    },
    "papermill": {
     "duration": 0.458251,
     "end_time": "2024-04-26T01:04:37.102066",
     "exception": false,
     "start_time": "2024-04-26T01:04:36.643815",
     "status": "completed"
    },
    "tags": []
   },
   "outputs": [
    {
     "data": {
      "image/png": "[encoded data removed]",
      "text/plain": [
       "<Figure size 1000x600 with 1 Axes>"
      ]
     },
     "metadata": {},
     "output_type": "display_data"
    }
   ],
   "source": [
    "import matplotlib.pyplot as plt\n",
    "\n",
    "# Histogram of Tweet Length\n",
    "plt.figure(figsize=(10, 6))\n",
    "plt.hist(df_train['length'], bins=30, alpha=0.7, color='dodgerblue')\n",
    "plt.title('Histogram of Tweet Length')\n",
    "plt.xlabel('Length')\n",
    "plt.ylabel('Frequency')\n",
    "plt.show()"
   ]
  },
  {
   "cell_type": "markdown",
   "id": "ba22668b",
   "metadata": {
    "papermill": {
     "duration": 0.012752,
     "end_time": "2024-04-26T01:04:37.128404",
     "exception": false,
     "start_time": "2024-04-26T01:04:37.115652",
     "status": "completed"
    },
    "tags": []
   },
   "source": [
    "Pie Chart of Disaster vs Non-disaster Tweets"
   ]
  },
  {
   "cell_type": "code",
   "execution_count": 8,
   "id": "c076449f",
   "metadata": {
    "execution": {
     "iopub.execute_input": "2024-04-26T01:04:37.155126Z",
     "iopub.status.busy": "2024-04-26T01:04:37.154293Z",
     "iopub.status.idle": "2024-04-26T01:04:37.383391Z",
     "shell.execute_reply": "2024-04-26T01:04:37.381757Z"
    },
    "papermill": {
     "duration": 0.24727,
     "end_time": "2024-04-26T01:04:37.388053",
     "exception": false,
     "start_time": "2024-04-26T01:04:37.140783",
     "status": "completed"
    },
    "tags": []
   },
   "outputs": [
    {
     "data": {
      "image/png": "[encoded data removed]",
      "text/plain": [
       "<Figure size 600x600 with 1 Axes>"
      ]
     },
     "metadata": {},
     "output_type": "display_data"
    }
   ],
   "source": [
    "plt.figure(figsize=(6, 6))\n",
    "df_train['target'].value_counts().plot(kind='pie', autopct='%1.1f%%', colors=['skyblue', 'gold'])\n",
    "plt.title('Pie Chart of Disaster vs Non-disaster Tweets')\n",
    "plt.ylabel('')\n",
    "plt.show()"
   ]
  },
  {
   "cell_type": "markdown",
   "id": "451bb270",
   "metadata": {
    "papermill": {
     "duration": 0.021095,
     "end_time": "2024-04-26T01:04:37.438353",
     "exception": false,
     "start_time": "2024-04-26T01:04:37.417258",
     "status": "completed"
    },
    "tags": []
   },
   "source": [
    "Average Tweet Length of Disaster vs Non-disaster"
   ]
  },
  {
   "cell_type": "code",
   "execution_count": 9,
   "id": "6b0b4a2a",
   "metadata": {
    "execution": {
     "iopub.execute_input": "2024-04-26T01:04:37.465315Z",
     "iopub.status.busy": "2024-04-26T01:04:37.464367Z",
     "iopub.status.idle": "2024-04-26T01:04:37.749838Z",
     "shell.execute_reply": "2024-04-26T01:04:37.748876Z"
    },
    "papermill": {
     "duration": 0.301331,
     "end_time": "2024-04-26T01:04:37.752110",
     "exception": false,
     "start_time": "2024-04-26T01:04:37.450779",
     "status": "completed"
    },
    "tags": []
   },
   "outputs": [
    {
     "data": {
      "image/png": "[encoded data removed]",
      "text/plain": [
       "<Figure size 600x600 with 1 Axes>"
      ]
     },
     "metadata": {},
     "output_type": "display_data"
    }
   ],
   "source": [
    "avg_len_disaster = df_train[df_train['target'] == 1]['length'].mean()\n",
    "avg_len_non_disaster = df_train[df_train['target'] == 0]['length'].mean()\n",
    "\n",
    "plt.figure(figsize=(6, 6))\n",
    "plt.bar(['Disaster', 'Non-disaster'], [avg_len_disaster, avg_len_non_disaster], color='seagreen')\n",
    "plt.title('Average Tweet Length of Disaster vs Non-disaster')\n",
    "plt.xlabel('Type')\n",
    "plt.ylabel('Average Length')\n",
    "plt.show()"
   ]
  },
  {
   "cell_type": "markdown",
   "id": "6eb758c8",
   "metadata": {
    "papermill": {
     "duration": 0.012636,
     "end_time": "2024-04-26T01:04:37.777570",
     "exception": false,
     "start_time": "2024-04-26T01:04:37.764934",
     "status": "completed"
    },
    "tags": []
   },
   "source": [
    "## Model Params\n",
    "\n",
    "Will use the DistilBert model."
   ]
  },
  {
   "cell_type": "code",
   "execution_count": 10,
   "id": "7c37bb1f",
   "metadata": {
    "execution": {
     "iopub.execute_input": "2024-04-26T01:04:37.805370Z",
     "iopub.status.busy": "2024-04-26T01:04:37.804391Z",
     "iopub.status.idle": "2024-04-26T01:04:37.810582Z",
     "shell.execute_reply": "2024-04-26T01:04:37.809449Z"
    },
    "papermill": {
     "duration": 0.022629,
     "end_time": "2024-04-26T01:04:37.812795",
     "exception": false,
     "start_time": "2024-04-26T01:04:37.790166",
     "status": "completed"
    },
    "tags": []
   },
   "outputs": [],
   "source": [
    "BATCH_SIZE = 64\n",
    "NUM_TRAINING_EXAMPLES = df_train.shape[0]\n",
    "TRAIN_SPLIT = 0.8\n",
    "VAL_SPLIT = 0.2\n",
    "STEPS_PER_EPOCH = int(NUM_TRAINING_EXAMPLES)*TRAIN_SPLIT // BATCH_SIZE\n",
    "EPOCHS = 3\n",
    "AUTO = tf.data.experimental.AUTOTUNE"
   ]
  },
  {
   "cell_type": "markdown",
   "id": "4514e260",
   "metadata": {
    "papermill": {
     "duration": 0.012748,
     "end_time": "2024-04-26T01:04:37.838979",
     "exception": false,
     "start_time": "2024-04-26T01:04:37.826231",
     "status": "completed"
    },
    "tags": []
   },
   "source": [
    "## Model Training\n",
    "\n"
   ]
  },
  {
   "cell_type": "markdown",
   "id": "24b2e148",
   "metadata": {
    "papermill": {
     "duration": 0.012493,
     "end_time": "2024-04-26T01:04:37.864596",
     "exception": false,
     "start_time": "2024-04-26T01:04:37.852103",
     "status": "completed"
    },
    "tags": []
   },
   "source": [
    "DistilBERT is a lightweight BERT that retains most of the performance of BERT, but with a model half the size of BERT and faster training and prediction. Here are some key features of DistilBERT:\n",
    "\n",
    "Transformer Architecture: DistilBERT is based on the Transformer architecture, a deep learning model architecture that is particularly well suited for processing sequential data, such as text.The key feature of the Transformer architecture is the self-attention mechanism, which allows the model to process each word taking into account all other words in the text.\n",
    "Pre-training: DistilBERT is a pre-trained model, meaning that it has been pre-trained on large-scale textual data to learn a rich linguistic representation. This enables DistilBERT to understand the contextual meaning of the text and thus efficiently handle various NLP tasks.\n",
    "Distillation: The process of creating DistilBERT involves a technique called \"knowledge distillation\". In knowledge distillation, a large model (in this case BERT) is used as a teacher model to instruct a small model (in this case DistilBERT). The small model is trained to mimic the behavior of the teacher model, which allows the small model to learn the knowledge of the teacher model while maintaining a smaller model size and faster training speed.\n",
    "\n",
    "**MODEL ARCHITECTURE**: The architecture of DistilBERT is very similar to that of BERT in that both include multiple layers of Transformer encoders. Each layer includes a self-attention mechanism and a feed-forward neural network. However, DistilBERT omits some layers in BERT, such as token type embeddings and pooling.\n"
   ]
  },
  {
   "cell_type": "markdown",
   "id": "442b4a13",
   "metadata": {
    "papermill": {
     "duration": 0.012589,
     "end_time": "2024-04-26T01:04:37.890493",
     "exception": false,
     "start_time": "2024-04-26T01:04:37.877904",
     "status": "completed"
    },
    "tags": []
   },
   "source": [
    "Divide the data into a training set and a validation set."
   ]
  },
  {
   "cell_type": "code",
   "execution_count": 11,
   "id": "b9b63ca1",
   "metadata": {
    "execution": {
     "iopub.execute_input": "2024-04-26T01:04:37.918126Z",
     "iopub.status.busy": "2024-04-26T01:04:37.917739Z",
     "iopub.status.idle": "2024-04-26T01:04:37.928897Z",
     "shell.execute_reply": "2024-04-26T01:04:37.927755Z"
    },
    "papermill": {
     "duration": 0.027686,
     "end_time": "2024-04-26T01:04:37.931189",
     "exception": false,
     "start_time": "2024-04-26T01:04:37.903503",
     "status": "completed"
    },
    "tags": []
   },
   "outputs": [],
   "source": [
    "from sklearn.model_selection import train_test_split\n",
    "\n",
    "X = df_train[\"text\"]\n",
    "y = df_train[\"target\"]\n",
    "\n",
    "X_train, X_val, y_train, y_val = train_test_split(X, y, test_size=VAL_SPLIT, random_state=42)\n",
    "\n",
    "X_test = df_test[\"text\"]"
   ]
  },
  {
   "cell_type": "markdown",
   "id": "df81e421",
   "metadata": {
    "papermill": {
     "duration": 0.012749,
     "end_time": "2024-04-26T01:04:37.956873",
     "exception": false,
     "start_time": "2024-04-26T01:04:37.944124",
     "status": "completed"
    },
    "tags": []
   },
   "source": [
    "We use Keras Core, the multi-backend version of Keras for model building."
   ]
  },
  {
   "cell_type": "markdown",
   "id": "d1e7ff8d",
   "metadata": {
    "papermill": {
     "duration": 0.012435,
     "end_time": "2024-04-26T01:04:37.982512",
     "exception": false,
     "start_time": "2024-04-26T01:04:37.970077",
     "status": "completed"
    },
    "tags": []
   },
   "source": [
    "Load a DistilBERT model, make the sequences shorter through preprocessor, and finally get a pretrained classifier for final compile and fit process."
   ]
  },
  {
   "cell_type": "code",
   "execution_count": 12,
   "id": "6b56fbc9",
   "metadata": {
    "execution": {
     "iopub.execute_input": "2024-04-26T01:04:38.009887Z",
     "iopub.status.busy": "2024-04-26T01:04:38.009484Z",
     "iopub.status.idle": "2024-04-26T01:10:06.262911Z",
     "shell.execute_reply": "2024-04-26T01:10:06.261965Z"
    },
    "papermill": {
     "duration": 328.269848,
     "end_time": "2024-04-26T01:10:06.265317",
     "exception": false,
     "start_time": "2024-04-26T01:04:37.995469",
     "status": "completed"
    },
    "tags": []
   },
   "outputs": [
    {
     "name": "stderr",
     "output_type": "stream",
     "text": [
      "Attaching 'tokenizer.json' from model 'keras/distil_bert/keras/distil_bert_base_en_uncased/2' to your Kaggle notebook...\n",
      "Attaching 'tokenizer.json' from model 'keras/distil_bert/keras/distil_bert_base_en_uncased/2' to your Kaggle notebook...\n",
      "Attaching 'assets/tokenizer/vocabulary.txt' from model 'keras/distil_bert/keras/distil_bert_base_en_uncased/2' to your Kaggle notebook...\n",
      "Attaching 'config.json' from model 'keras/distil_bert/keras/distil_bert_base_en_uncased/2' to your Kaggle notebook...\n",
      "Attaching 'config.json' from model 'keras/distil_bert/keras/distil_bert_base_en_uncased/2' to your Kaggle notebook...\n",
      "Attaching 'model.weights.h5' from model 'keras/distil_bert/keras/distil_bert_base_en_uncased/2' to your Kaggle notebook...\n",
      "/opt/conda/lib/python3.10/site-packages/keras_nlp/src/models/backbone.py:93: UserWarning: `Model.state_updates` will be removed in a future version. This property should not be used in TensorFlow 2.0, as `updates` are applied automatically.\n",
      "  return id(getattr(self, attr)) not in self._functional_layer_ids\n",
      "/opt/conda/lib/python3.10/site-packages/keras_nlp/src/models/backbone.py:93: UserWarning: `layer.updates` will be removed in a future version. This property should not be used in TensorFlow 2.0, as `updates` are applied automatically.\n",
      "  return id(getattr(self, attr)) not in self._functional_layer_ids\n"
     ]
    },
    {
     "data": {
      "text/html": [
       "<pre style=\"white-space:pre;overflow-x:auto;line-height:normal;font-family:Menlo,'DejaVu Sans Mono',consolas,'Courier New',monospace\"><span style=\"font-weight: bold\">Preprocessor: \"preprocessor_4_tweets\"</span>\n",
       "</pre>\n"
      ],
      "text/plain": [
       "\u001b[1mPreprocessor: \"preprocessor_4_tweets\"\u001b[0m\n"
      ]
     },
     "metadata": {},
     "output_type": "display_data"
    },
    {
     "data": {
      "text/html": [
       "<pre style=\"white-space:pre;overflow-x:auto;line-height:normal;font-family:Menlo,'DejaVu Sans Mono',consolas,'Courier New',monospace\">┏━━━━━━━━━━━━━━━━━━━━━━━━━━━━━━━━━━━━━━━━━━━━━━━━━━━━┳━━━━━━━━━━━━━━━━━━━━━━━━━━━━━━━━━━━━━━━━━━━━━━━━━━━━━┓\n",
       "┃<span style=\"font-weight: bold\"> Tokenizer (type)                                   </span>┃<span style=\"font-weight: bold\">                                             Vocab # </span>┃\n",
       "┡━━━━━━━━━━━━━━━━━━━━━━━━━━━━━━━━━━━━━━━━━━━━━━━━━━━━╇━━━━━━━━━━━━━━━━━━━━━━━━━━━━━━━━━━━━━━━━━━━━━━━━━━━━━┩\n",
       "│ distil_bert_tokenizer (<span style=\"color: #0087ff; text-decoration-color: #0087ff\">DistilBertTokenizer</span>)        │                                              <span style=\"color: #00af00; text-decoration-color: #00af00\">30,522</span> │\n",
       "└────────────────────────────────────────────────────┴─────────────────────────────────────────────────────┘\n",
       "</pre>\n"
      ],
      "text/plain": [
       "┏━━━━━━━━━━━━━━━━━━━━━━━━━━━━━━━━━━━━━━━━━━━━━━━━━━━━┳━━━━━━━━━━━━━━━━━━━━━━━━━━━━━━━━━━━━━━━━━━━━━━━━━━━━━┓\n",
       "┃\u001b[1m \u001b[0m\u001b[1mTokenizer (type)                                  \u001b[0m\u001b[1m \u001b[0m┃\u001b[1m \u001b[0m\u001b[1m                                            Vocab #\u001b[0m\u001b[1m \u001b[0m┃\n",
       "┡━━━━━━━━━━━━━━━━━━━━━━━━━━━━━━━━━━━━━━━━━━━━━━━━━━━━╇━━━━━━━━━━━━━━━━━━━━━━━━━━━━━━━━━━━━━━━━━━━━━━━━━━━━━┩\n",
       "│ distil_bert_tokenizer (\u001b[38;5;33mDistilBertTokenizer\u001b[0m)        │                                              \u001b[38;5;34m30,522\u001b[0m │\n",
       "└────────────────────────────────────────────────────┴─────────────────────────────────────────────────────┘\n"
      ]
     },
     "metadata": {},
     "output_type": "display_data"
    },
    {
     "data": {
      "text/html": [
       "<pre style=\"white-space:pre;overflow-x:auto;line-height:normal;font-family:Menlo,'DejaVu Sans Mono',consolas,'Courier New',monospace\"><span style=\"font-weight: bold\">Model: \"distil_bert_classifier\"</span>\n",
       "</pre>\n"
      ],
      "text/plain": [
       "\u001b[1mModel: \"distil_bert_classifier\"\u001b[0m\n"
      ]
     },
     "metadata": {},
     "output_type": "display_data"
    },
    {
     "data": {
      "text/html": [
       "<pre style=\"white-space:pre;overflow-x:auto;line-height:normal;font-family:Menlo,'DejaVu Sans Mono',consolas,'Courier New',monospace\">┏━━━━━━━━━━━━━━━━━━━━━━━━━━━━━━━━━━━━━━━━━━━━━━━┳━━━━━━━━━━━━━━━━━━━━━━━━━━━━━━━━━━━━━━━━┳━━━━━━━━━━━━━━━━━┓\n",
       "┃<span style=\"font-weight: bold\"> Layer (type)                                  </span>┃<span style=\"font-weight: bold\"> Output Shape                           </span>┃<span style=\"font-weight: bold\">         Param # </span>┃\n",
       "┡━━━━━━━━━━━━━━━━━━━━━━━━━━━━━━━━━━━━━━━━━━━━━━━╇━━━━━━━━━━━━━━━━━━━━━━━━━━━━━━━━━━━━━━━━╇━━━━━━━━━━━━━━━━━┩\n",
       "│ padding_mask (<span style=\"color: #0087ff; text-decoration-color: #0087ff\">InputLayer</span>)                     │ (<span style=\"color: #00d7ff; text-decoration-color: #00d7ff\">None</span>, <span style=\"color: #00d7ff; text-decoration-color: #00d7ff\">None</span>)                           │               <span style=\"color: #00af00; text-decoration-color: #00af00\">0</span> │\n",
       "├───────────────────────────────────────────────┼────────────────────────────────────────┼─────────────────┤\n",
       "│ token_ids (<span style=\"color: #0087ff; text-decoration-color: #0087ff\">InputLayer</span>)                        │ (<span style=\"color: #00d7ff; text-decoration-color: #00d7ff\">None</span>, <span style=\"color: #00d7ff; text-decoration-color: #00d7ff\">None</span>)                           │               <span style=\"color: #00af00; text-decoration-color: #00af00\">0</span> │\n",
       "├───────────────────────────────────────────────┼────────────────────────────────────────┼─────────────────┤\n",
       "│ distil_bert_backbone (<span style=\"color: #0087ff; text-decoration-color: #0087ff\">DistilBertBackbone</span>)     │ (<span style=\"color: #00d7ff; text-decoration-color: #00d7ff\">None</span>, <span style=\"color: #00d7ff; text-decoration-color: #00d7ff\">None</span>, <span style=\"color: #00af00; text-decoration-color: #00af00\">768</span>)                      │      <span style=\"color: #00af00; text-decoration-color: #00af00\">66,362,880</span> │\n",
       "├───────────────────────────────────────────────┼────────────────────────────────────────┼─────────────────┤\n",
       "│ tf.__operators__.getitem (<span style=\"color: #0087ff; text-decoration-color: #0087ff\">SlicingOpLambda</span>)    │ (<span style=\"color: #00d7ff; text-decoration-color: #00d7ff\">None</span>, <span style=\"color: #00af00; text-decoration-color: #00af00\">768</span>)                            │               <span style=\"color: #00af00; text-decoration-color: #00af00\">0</span> │\n",
       "├───────────────────────────────────────────────┼────────────────────────────────────────┼─────────────────┤\n",
       "│ pooled_dense (<span style=\"color: #0087ff; text-decoration-color: #0087ff\">Dense</span>)                          │ (<span style=\"color: #00d7ff; text-decoration-color: #00d7ff\">None</span>, <span style=\"color: #00af00; text-decoration-color: #00af00\">768</span>)                            │         <span style=\"color: #00af00; text-decoration-color: #00af00\">590,592</span> │\n",
       "├───────────────────────────────────────────────┼────────────────────────────────────────┼─────────────────┤\n",
       "│ output_dropout (<span style=\"color: #0087ff; text-decoration-color: #0087ff\">Dropout</span>)                      │ (<span style=\"color: #00d7ff; text-decoration-color: #00d7ff\">None</span>, <span style=\"color: #00af00; text-decoration-color: #00af00\">768</span>)                            │               <span style=\"color: #00af00; text-decoration-color: #00af00\">0</span> │\n",
       "├───────────────────────────────────────────────┼────────────────────────────────────────┼─────────────────┤\n",
       "│ logits (<span style=\"color: #0087ff; text-decoration-color: #0087ff\">Dense</span>)                                │ (<span style=\"color: #00d7ff; text-decoration-color: #00d7ff\">None</span>, <span style=\"color: #00af00; text-decoration-color: #00af00\">2</span>)                              │           <span style=\"color: #00af00; text-decoration-color: #00af00\">1,538</span> │\n",
       "└───────────────────────────────────────────────┴────────────────────────────────────────┴─────────────────┘\n",
       "</pre>\n"
      ],
      "text/plain": [
       "┏━━━━━━━━━━━━━━━━━━━━━━━━━━━━━━━━━━━━━━━━━━━━━━━┳━━━━━━━━━━━━━━━━━━━━━━━━━━━━━━━━━━━━━━━━┳━━━━━━━━━━━━━━━━━┓\n",
       "┃\u001b[1m \u001b[0m\u001b[1mLayer (type)                                 \u001b[0m\u001b[1m \u001b[0m┃\u001b[1m \u001b[0m\u001b[1mOutput Shape                          \u001b[0m\u001b[1m \u001b[0m┃\u001b[1m \u001b[0m\u001b[1m        Param #\u001b[0m\u001b[1m \u001b[0m┃\n",
       "┡━━━━━━━━━━━━━━━━━━━━━━━━━━━━━━━━━━━━━━━━━━━━━━━╇━━━━━━━━━━━━━━━━━━━━━━━━━━━━━━━━━━━━━━━━╇━━━━━━━━━━━━━━━━━┩\n",
       "│ padding_mask (\u001b[38;5;33mInputLayer\u001b[0m)                     │ (\u001b[38;5;45mNone\u001b[0m, \u001b[38;5;45mNone\u001b[0m)                           │               \u001b[38;5;34m0\u001b[0m │\n",
       "├───────────────────────────────────────────────┼────────────────────────────────────────┼─────────────────┤\n",
       "│ token_ids (\u001b[38;5;33mInputLayer\u001b[0m)                        │ (\u001b[38;5;45mNone\u001b[0m, \u001b[38;5;45mNone\u001b[0m)                           │               \u001b[38;5;34m0\u001b[0m │\n",
       "├───────────────────────────────────────────────┼────────────────────────────────────────┼─────────────────┤\n",
       "│ distil_bert_backbone (\u001b[38;5;33mDistilBertBackbone\u001b[0m)     │ (\u001b[38;5;45mNone\u001b[0m, \u001b[38;5;45mNone\u001b[0m, \u001b[38;5;34m768\u001b[0m)                      │      \u001b[38;5;34m66,362,880\u001b[0m │\n",
       "├───────────────────────────────────────────────┼────────────────────────────────────────┼─────────────────┤\n",
       "│ tf.__operators__.getitem (\u001b[38;5;33mSlicingOpLambda\u001b[0m)    │ (\u001b[38;5;45mNone\u001b[0m, \u001b[38;5;34m768\u001b[0m)                            │               \u001b[38;5;34m0\u001b[0m │\n",
       "├───────────────────────────────────────────────┼────────────────────────────────────────┼─────────────────┤\n",
       "│ pooled_dense (\u001b[38;5;33mDense\u001b[0m)                          │ (\u001b[38;5;45mNone\u001b[0m, \u001b[38;5;34m768\u001b[0m)                            │         \u001b[38;5;34m590,592\u001b[0m │\n",
       "├───────────────────────────────────────────────┼────────────────────────────────────────┼─────────────────┤\n",
       "│ output_dropout (\u001b[38;5;33mDropout\u001b[0m)                      │ (\u001b[38;5;45mNone\u001b[0m, \u001b[38;5;34m768\u001b[0m)                            │               \u001b[38;5;34m0\u001b[0m │\n",
       "├───────────────────────────────────────────────┼────────────────────────────────────────┼─────────────────┤\n",
       "│ logits (\u001b[38;5;33mDense\u001b[0m)                                │ (\u001b[38;5;45mNone\u001b[0m, \u001b[38;5;34m2\u001b[0m)                              │           \u001b[38;5;34m1,538\u001b[0m │\n",
       "└───────────────────────────────────────────────┴────────────────────────────────────────┴─────────────────┘\n"
      ]
     },
     "metadata": {},
     "output_type": "display_data"
    },
    {
     "data": {
      "text/html": [
       "<pre style=\"white-space:pre;overflow-x:auto;line-height:normal;font-family:Menlo,'DejaVu Sans Mono',consolas,'Courier New',monospace\"><span style=\"font-weight: bold\"> Total params: </span><span style=\"color: #00af00; text-decoration-color: #00af00\">66,955,010</span> (255.41 MB)\n",
       "</pre>\n"
      ],
      "text/plain": [
       "\u001b[1m Total params: \u001b[0m\u001b[38;5;34m66,955,010\u001b[0m (255.41 MB)\n"
      ]
     },
     "metadata": {},
     "output_type": "display_data"
    },
    {
     "data": {
      "text/html": [
       "<pre style=\"white-space:pre;overflow-x:auto;line-height:normal;font-family:Menlo,'DejaVu Sans Mono',consolas,'Courier New',monospace\"><span style=\"font-weight: bold\"> Trainable params: </span><span style=\"color: #00af00; text-decoration-color: #00af00\">66,955,010</span> (255.41 MB)\n",
       "</pre>\n"
      ],
      "text/plain": [
       "\u001b[1m Trainable params: \u001b[0m\u001b[38;5;34m66,955,010\u001b[0m (255.41 MB)\n"
      ]
     },
     "metadata": {},
     "output_type": "display_data"
    },
    {
     "data": {
      "text/html": [
       "<pre style=\"white-space:pre;overflow-x:auto;line-height:normal;font-family:Menlo,'DejaVu Sans Mono',consolas,'Courier New',monospace\"><span style=\"font-weight: bold\"> Non-trainable params: </span><span style=\"color: #00af00; text-decoration-color: #00af00\">0</span> (0.00 B)\n",
       "</pre>\n"
      ],
      "text/plain": [
       "\u001b[1m Non-trainable params: \u001b[0m\u001b[38;5;34m0\u001b[0m (0.00 B)\n"
      ]
     },
     "metadata": {},
     "output_type": "display_data"
    },
    {
     "name": "stdout",
     "output_type": "stream",
     "text": [
      "Epoch 1/3\n"
     ]
    },
    {
     "name": "stderr",
     "output_type": "stream",
     "text": [
      "WARNING: All log messages before absl::InitializeLog() is called are written to STDERR\n",
      "I0000 00:00:1714093534.766933      84 device_compiler.h:186] Compiled cluster using XLA!  This line is logged at most once for the lifetime of the process.\n",
      "W0000 00:00:1714093534.929323      84 graph_launch.cc:671] Fallback to op-by-op mode because memset node breaks graph update\n"
     ]
    },
    {
     "name": "stdout",
     "output_type": "stream",
     "text": [
      "96/96 [==============================] - ETA: 0s - loss: 0.5636 - accuracy: 0.7250"
     ]
    },
    {
     "name": "stderr",
     "output_type": "stream",
     "text": [
      "W0000 00:00:1714093625.122464      84 graph_launch.cc:671] Fallback to op-by-op mode because memset node breaks graph update\n",
      "W0000 00:00:1714093630.091918      85 graph_launch.cc:671] Fallback to op-by-op mode because memset node breaks graph update\n"
     ]
    },
    {
     "name": "stdout",
     "output_type": "stream",
     "text": [
      "96/96 [==============================] - 144s 1s/step - loss: 0.5636 - accuracy: 0.7250 - val_loss: 0.4501 - val_accuracy: 0.8056\n",
      "Epoch 2/3\n",
      "96/96 [==============================] - 83s 864ms/step - loss: 0.4352 - accuracy: 0.8154 - val_loss: 0.4225 - val_accuracy: 0.8234\n",
      "Epoch 3/3\n",
      "96/96 [==============================] - 85s 882ms/step - loss: 0.3869 - accuracy: 0.8445 - val_loss: 0.4251 - val_accuracy: 0.8207\n"
     ]
    }
   ],
   "source": [
    "preset= \"distil_bert_base_en_uncased\"\n",
    "preprocessor = keras_nlp.models.DistilBertPreprocessor.from_preset(preset, sequence_length=160, name=\"preprocessor_4_tweets\")\n",
    "classifier = keras_nlp.models.DistilBertClassifier.from_preset(preset,preprocessor = preprocessor,num_classes=2)\n",
    "\n",
    "classifier.summary()\n",
    "\n",
    "classifier.compile(\n",
    "    loss=keras.losses.SparseCategoricalCrossentropy(from_logits=True),\n",
    "    optimizer=tf.keras.optimizers.Adam(1e-5),\n",
    "    metrics= [\"accuracy\"]  \n",
    ")\n",
    "\n",
    "history = classifier.fit(x=X_train,\n",
    "                         y=y_train,\n",
    "                         batch_size=BATCH_SIZE,\n",
    "                         epochs=EPOCHS, \n",
    "                         validation_data=(X_val, y_val))"
   ]
  },
  {
   "cell_type": "markdown",
   "id": "3bcf9da9",
   "metadata": {
    "papermill": {
     "duration": 0.041632,
     "end_time": "2024-04-26T01:10:06.399562",
     "exception": false,
     "start_time": "2024-04-26T01:10:06.357930",
     "status": "completed"
    },
    "tags": []
   },
   "source": [
    "### Evaluation"
   ]
  },
  {
   "cell_type": "markdown",
   "id": "24f217e3",
   "metadata": {
    "papermill": {
     "duration": 0.04249,
     "end_time": "2024-04-26T01:10:06.484214",
     "exception": false,
     "start_time": "2024-04-26T01:10:06.441724",
     "status": "completed"
    },
    "tags": []
   },
   "source": [
    "We can have a more direct visualization about the model quality."
   ]
  },
  {
   "cell_type": "code",
   "execution_count": 13,
   "id": "0f345014",
   "metadata": {
    "execution": {
     "iopub.execute_input": "2024-04-26T01:10:06.569039Z",
     "iopub.status.busy": "2024-04-26T01:10:06.568221Z",
     "iopub.status.idle": "2024-04-26T01:10:06.575712Z",
     "shell.execute_reply": "2024-04-26T01:10:06.574688Z"
    },
    "papermill": {
     "duration": 0.05204,
     "end_time": "2024-04-26T01:10:06.577893",
     "exception": false,
     "start_time": "2024-04-26T01:10:06.525853",
     "status": "completed"
    },
    "tags": []
   },
   "outputs": [],
   "source": [
    "def displayConfusionMatrix(y_true, y_pred, dataset):\n",
    "    disp = ConfusionMatrixDisplay.from_predictions(\n",
    "        y_true,\n",
    "        np.argmax(y_pred, axis=1),\n",
    "        display_labels=[\"Not Disaster\",\"Disaster\"],\n",
    "        cmap=plt.cm.Blues\n",
    "    )\n",
    "\n",
    "    tn, fp, fn, tp = confusion_matrix(y_true, np.argmax(y_pred, axis=1)).ravel()\n",
    "    f1_score = tp / (tp+((fn+fp)/2))\n",
    "\n",
    "    disp.ax_.set_title(\"Confusion Matrix on \" + dataset + \" Dataset -- F1 Score: \" + str(f1_score.round(2)))\n"
   ]
  },
  {
   "cell_type": "code",
   "execution_count": 14,
   "id": "9a49a88d",
   "metadata": {
    "execution": {
     "iopub.execute_input": "2024-04-26T01:10:06.663599Z",
     "iopub.status.busy": "2024-04-26T01:10:06.663174Z",
     "iopub.status.idle": "2024-04-26T01:10:37.781752Z",
     "shell.execute_reply": "2024-04-26T01:10:37.780650Z"
    },
    "papermill": {
     "duration": 31.16413,
     "end_time": "2024-04-26T01:10:37.784381",
     "exception": false,
     "start_time": "2024-04-26T01:10:06.620251",
     "status": "completed"
    },
    "tags": []
   },
   "outputs": [
    {
     "name": "stdout",
     "output_type": "stream",
     "text": [
      "  2/191 [..............................] - ETA: 21s  "
     ]
    },
    {
     "name": "stderr",
     "output_type": "stream",
     "text": [
      "W0000 00:00:1714093811.619379      83 graph_launch.cc:671] Fallback to op-by-op mode because memset node breaks graph update\n"
     ]
    },
    {
     "name": "stdout",
     "output_type": "stream",
     "text": [
      "191/191 [==============================] - 30s 135ms/step\n"
     ]
    },
    {
     "name": "stderr",
     "output_type": "stream",
     "text": [
      "W0000 00:00:1714093837.199803      83 graph_launch.cc:671] Fallback to op-by-op mode because memset node breaks graph update\n"
     ]
    },
    {
     "data": {
      "image/png": "[encoded data removed]",
      "text/plain": [
       "<Figure size 640x480 with 2 Axes>"
      ]
     },
     "metadata": {},
     "output_type": "display_data"
    }
   ],
   "source": [
    "y_pred_train = classifier.predict(X_train)\n",
    "\n",
    "displayConfusionMatrix(y_train, y_pred_train, \"Training\")"
   ]
  },
  {
   "cell_type": "code",
   "execution_count": 15,
   "id": "2e553b03",
   "metadata": {
    "execution": {
     "iopub.execute_input": "2024-04-26T01:10:37.908214Z",
     "iopub.status.busy": "2024-04-26T01:10:37.906903Z",
     "iopub.status.idle": "2024-04-26T01:10:47.772617Z",
     "shell.execute_reply": "2024-04-26T01:10:47.771607Z"
    },
    "papermill": {
     "duration": 9.931052,
     "end_time": "2024-04-26T01:10:47.774787",
     "exception": false,
     "start_time": "2024-04-26T01:10:37.843735",
     "status": "completed"
    },
    "tags": []
   },
   "outputs": [
    {
     "name": "stdout",
     "output_type": "stream",
     "text": [
      "48/48 [==============================] - 9s 169ms/step\n"
     ]
    },
    {
     "name": "stderr",
     "output_type": "stream",
     "text": [
      "W0000 00:00:1714093847.351602      83 graph_launch.cc:671] Fallback to op-by-op mode because memset node breaks graph update\n"
     ]
    },
    {
     "data": {
      "image/png": "[encoded data removed]",
      "text/plain": [
       "<Figure size 640x480 with 2 Axes>"
      ]
     },
     "metadata": {},
     "output_type": "display_data"
    }
   ],
   "source": [
    "y_pred_val = classifier.predict(X_val)\n",
    "\n",
    "displayConfusionMatrix(y_val, y_pred_val, \"Validation\")"
   ]
  },
  {
   "cell_type": "code",
   "execution_count": 16,
   "id": "5741622e",
   "metadata": {
    "execution": {
     "iopub.execute_input": "2024-04-26T01:10:47.902849Z",
     "iopub.status.busy": "2024-04-26T01:10:47.902458Z",
     "iopub.status.idle": "2024-04-26T01:11:22.209723Z",
     "shell.execute_reply": "2024-04-26T01:11:22.208654Z"
    },
    "papermill": {
     "duration": 34.374359,
     "end_time": "2024-04-26T01:11:22.212194",
     "exception": false,
     "start_time": "2024-04-26T01:10:47.837835",
     "status": "completed"
    },
    "tags": []
   },
   "outputs": [
    {
     "name": "stdout",
     "output_type": "stream",
     "text": [
      "191/191 [==============================] - 25s 127ms/step\n",
      "Training Accuracy: 0.87\n",
      "Training Precision: 0.88\n",
      "Training Recall: 0.82\n",
      "Training F1 Score: 0.85\n",
      "48/48 [==============================] - 7s 127ms/step\n",
      "Validation Accuracy: 0.82\n",
      "Validation Precision: 0.80\n",
      "Validation Recall: 0.77\n",
      "Validation F1 Score: 0.78\n"
     ]
    },
    {
     "data": {
      "image/png": "[encoded data removed]",
      "text/plain": [
       "<Figure size 640x480 with 1 Axes>"
      ]
     },
     "metadata": {},
     "output_type": "display_data"
    }
   ],
   "source": [
    "from sklearn.metrics import accuracy_score, precision_score, recall_score, f1_score\n",
    "\n",
    "y_pred_train2 = np.argmax(classifier.predict(X_train), axis=1)\n",
    "\n",
    "accuracy_train = accuracy_score(y_train, y_pred_train2)\n",
    "precision_train = precision_score(y_train, y_pred_train2)\n",
    "recall_train = recall_score(y_train, y_pred_train2)\n",
    "f1_train = f1_score(y_train, y_pred_train2)\n",
    "\n",
    "print('Training Accuracy: {:.2f}'.format(accuracy_train))\n",
    "print('Training Precision: {:.2f}'.format(precision_train))\n",
    "print('Training Recall: {:.2f}'.format(recall_train))\n",
    "print('Training F1 Score: {:.2f}'.format(f1_train))\n",
    "\n",
    "y_pred_val2 = np.argmax(classifier.predict(X_val), axis=1)\n",
    "\n",
    "accuracy_val = accuracy_score(y_val, y_pred_val2)\n",
    "precision_val = precision_score(y_val, y_pred_val2)\n",
    "recall_val = recall_score(y_val, y_pred_val2)\n",
    "f1_val = f1_score(y_val, y_pred_val2)\n",
    "\n",
    "print('Validation Accuracy: {:.2f}'.format(accuracy_val))\n",
    "print('Validation Precision: {:.2f}'.format(precision_val))\n",
    "print('Validation Recall: {:.2f}'.format(recall_val))\n",
    "print('Validation F1 Score: {:.2f}'.format(f1_val))\n",
    "\n",
    "\n",
    "metrics_train = [accuracy_train, precision_train, recall_train, f1_train]\n",
    "metrics_val = [accuracy_val, precision_val, recall_val, f1_val]\n",
    "\n",
    "labels = ['Accuracy', 'Precision', 'Recall', 'F1 Score']\n",
    "x = np.arange(len(labels))\n",
    "width = 0.35\n",
    "\n",
    "fig, ax = plt.subplots()\n",
    "rects1 = ax.bar(x - width/2, metrics_train, width, label='Train')\n",
    "rects2 = ax.bar(x + width/2, metrics_val, width, label='Validation')\n",
    "\n",
    "ax.set_ylabel('Scores')\n",
    "ax.set_title('Scores by group and gender')\n",
    "ax.set_xticks(x)\n",
    "ax.set_xticklabels(labels)\n",
    "ax.legend()\n",
    "\n",
    "fig.tight_layout()\n",
    "\n",
    "plt.show()\n"
   ]
  },
  {
   "cell_type": "markdown",
   "id": "a576b354",
   "metadata": {
    "papermill": {
     "duration": 0.088372,
     "end_time": "2024-04-26T01:11:22.389442",
     "exception": false,
     "start_time": "2024-04-26T01:11:22.301070",
     "status": "completed"
    },
    "tags": []
   },
   "source": [
    "## Prediction Output"
   ]
  },
  {
   "cell_type": "markdown",
   "id": "7ba0490c",
   "metadata": {
    "papermill": {
     "duration": 0.089222,
     "end_time": "2024-04-26T01:11:22.566577",
     "exception": false,
     "start_time": "2024-04-26T01:11:22.477355",
     "status": "completed"
    },
    "tags": []
   },
   "source": [
    "And print the output to file."
   ]
  },
  {
   "cell_type": "code",
   "execution_count": 17,
   "id": "be19f37b",
   "metadata": {
    "execution": {
     "iopub.execute_input": "2024-04-26T01:11:22.747105Z",
     "iopub.status.busy": "2024-04-26T01:11:22.746160Z",
     "iopub.status.idle": "2024-04-26T01:11:39.386844Z",
     "shell.execute_reply": "2024-04-26T01:11:39.385741Z"
    },
    "papermill": {
     "duration": 16.732159,
     "end_time": "2024-04-26T01:11:39.389537",
     "exception": false,
     "start_time": "2024-04-26T01:11:22.657378",
     "status": "completed"
    },
    "tags": []
   },
   "outputs": [
    {
     "name": "stdout",
     "output_type": "stream",
     "text": [
      "102/102 [==============================] - 16s 147ms/step\n"
     ]
    },
    {
     "name": "stderr",
     "output_type": "stream",
     "text": [
      "W0000 00:00:1714093899.234677      85 graph_launch.cc:671] Fallback to op-by-op mode because memset node breaks graph update\n"
     ]
    }
   ],
   "source": [
    "sample_submission = pd.read_csv(\"/kaggle/input/nlp-getting-started/sample_submission.csv\")\n",
    "\n",
    "sample_submission[\"target\"] = np.argmax(classifier.predict(X_test), axis=1)\n",
    "\n",
    "sample_submission.to_csv(\"submission.csv\", index=False)"
   ]
  },
  {
   "cell_type": "markdown",
   "id": "7c50ff1c",
   "metadata": {
    "papermill": {
     "duration": 0.095816,
     "end_time": "2024-04-26T01:11:39.582242",
     "exception": false,
     "start_time": "2024-04-26T01:11:39.486426",
     "status": "completed"
    },
    "tags": []
   },
   "source": [
    "## Conclusion\n",
    "\n",
    "In this project, we successfully solved a natural language processing (NLP) problem of predicting whether tweets describe real disasters. \n",
    "\n",
    "We first performed a series of preprocessing steps on the tweets, including conversion to lowercase, word splitting, deactivation, and stemming extraction, in order to allow the model to better understand the meaning of the text. \n",
    "\n",
    "We then trained and predicted using the DistilBert model, a powerful pre-trained deep learning model that understands the contextual meaning of the text to effectively distinguish between tweets describing real disasters and those that are not. \n",
    "\n",
    "During the model training and prediction process, we also use a confusion matrix to evaluate the model's performance and ensure that our model can accurately predict real disaster tweets. \n",
    "\n",
    "Finally, we completed the project by submitting our predictions to the competition platform. Overall, this project demonstrates how deep learning techniques can be used to solve real-world NLP problems and provides a valuable reference for future related research and applications.\n",
    "\n",
    "The selected backend is TensorFlow, while pyTorch can also be selected."
   ]
  }
 ],
 "metadata": {
  "kaggle": {
   "accelerator": "nvidiaTeslaT4",
   "dataSources": [
    {
     "databundleVersionId": 869809,
     "sourceId": 17777,
     "sourceType": "competition"
    },
    {
     "modelInstanceId": 4689,
     "sourceId": 6068,
     "sourceType": "modelInstanceVersion"
    }
   ],
   "dockerImageVersionId": 30699,
   "isGpuEnabled": true,
   "isInternetEnabled": true,
   "language": "python",
   "sourceType": "notebook"
  },
  "kernelspec": {
   "display_name": "Python 3",
   "language": "python",
   "name": "python3"
  },
  "language_info": {
   "codemirror_mode": {
    "name": "ipython",
    "version": 3
   },
   "file_extension": ".py",
   "mimetype": "text/x-python",
   "name": "python",
   "nbconvert_exporter": "python",
   "pygments_lexer": "ipython3",
   "version": "3.10.13"
  },
  "papermill": {
   "default_parameters": {},
   "duration": 496.405825,
   "end_time": "2024-04-26T01:11:43.072256",
   "environment_variables": {},
   "exception": null,
   "input_path": "__notebook__.ipynb",
   "output_path": "__notebook__.ipynb",
   "parameters": {},
   "start_time": "2024-04-26T01:03:26.666431",
   "version": "2.5.0"
  }
 },
 "nbformat": 4,
 "nbformat_minor": 5
}
